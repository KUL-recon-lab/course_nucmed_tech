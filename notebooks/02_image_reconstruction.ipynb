{
 "cells": [
  {
   "cell_type": "markdown",
   "id": "4e3b2879",
   "metadata": {
    "deletable": false,
    "editable": false,
    "nbgrader": {
     "cell_type": "markdown",
     "checksum": "46de23860d0d1eda5ea51a3ce00ee1b1",
     "grade": false,
     "grade_id": "cell-0811db1890e5be81",
     "locked": true,
     "schema_version": 3,
     "solution": false,
     "task": false
    }
   },
   "source": [
    "# 2D Tomographic Image Reconstruction with FBP and MLEM\n",
    "\n",
    "## Learning objectives of this notebook\n",
    "\n",
    "1. Understanding / exploring the discrete Radon transform (forward projection) and its adjoint / transpose (back projections).\n",
    "2. Understanding / exploring 2D tomographic image reconstruction using filtered back projection (FBP)\n",
    "3. Understanding / exploring iterative 2D tomographic image reconstruction using Maximum Likelihood Expectation Maximization (MLEM)\n",
    "4. Exploring the convergence behavior of MLEM using noise-free and noisy data sinograms."
   ]
  },
  {
   "cell_type": "code",
   "execution_count": null,
   "id": "596f38ba",
   "metadata": {
    "deletable": false,
    "editable": false,
    "nbgrader": {
     "cell_type": "code",
     "checksum": "7024a9412ec5dbcd2bdd8f365c80d894",
     "grade": false,
     "grade_id": "cell-41092440c3d25e74",
     "locked": true,
     "schema_version": 3,
     "solution": false,
     "task": false
    }
   },
   "outputs": [],
   "source": [
    "import numpy as np\n",
    "import matplotlib.pyplot as plt\n",
    "from utils import DiscreteRadonTransform, demo_sinogram, demo_image\n",
    "\n",
    "# limit the number of elemets printed for very long arrays\n",
    "np.set_printoptions(threshold=6, edgeitems=3)\n",
    "\n",
    "# use interactive plots\n",
    "%matplotlib widget"
   ]
  },
  {
   "cell_type": "markdown",
   "id": "1dc6d82d",
   "metadata": {
    "deletable": false,
    "editable": false,
    "nbgrader": {
     "cell_type": "markdown",
     "checksum": "b76a59a5642ce59c7f3355bd9a043f8e",
     "grade": false,
     "grade_id": "cell-780e0d4e714590ff",
     "locked": true,
     "schema_version": 3,
     "solution": false,
     "task": false
    }
   },
   "source": [
    "We create a linear operator to calculate the discrete Radon transform (line integrals through a discrete 2D image), commonly called \"forward projection.\" \n",
    "Additionally, this operator can compute the transpose (adjoint) of the Radon transform, often referred to as \"back projection.\""
   ]
  },
  {
   "cell_type": "code",
   "execution_count": null,
   "id": "d7f99666",
   "metadata": {
    "deletable": false,
    "editable": false,
    "nbgrader": {
     "cell_type": "code",
     "checksum": "a4aaee554e2e55c79c3ef7ce8b3796f9",
     "grade": false,
     "grade_id": "cell-da8c0fda65b3a716",
     "locked": true,
     "schema_version": 3,
     "solution": false,
     "task": false
    }
   },
   "outputs": [],
   "source": [
    "discrete_radon_transform = DiscreteRadonTransform()"
   ]
  },
  {
   "cell_type": "markdown",
   "id": "789def79",
   "metadata": {
    "deletable": false,
    "editable": false,
    "nbgrader": {
     "cell_type": "markdown",
     "checksum": "c7c456c9452ce6a1bf17896ca3d53e2e",
     "grade": false,
     "grade_id": "cell-b4ec4f122a415839",
     "locked": true,
     "schema_version": 3,
     "solution": false,
     "task": false
    }
   },
   "source": [
    "The discrete 2D image resides on a 2D pixel grid. Below, we display the image shape and the x and y world coordinates of the pixel grid."
   ]
  },
  {
   "cell_type": "code",
   "execution_count": null,
   "id": "1acf74a2",
   "metadata": {
    "deletable": false,
    "editable": false,
    "nbgrader": {
     "cell_type": "code",
     "checksum": "f5428c6c1f94f79b19a40dd97e703080",
     "grade": false,
     "grade_id": "cell-68e14ce513c8ebfc",
     "locked": true,
     "schema_version": 3,
     "solution": false,
     "task": false
    }
   },
   "outputs": [],
   "source": [
    "print(f\"image shape (num_x, num_y) : {discrete_radon_transform.image_shape}\")\n",
    "print(f\"pixel x coordinates        : {discrete_radon_transform.pixel_x_coordinates}\")\n",
    "print(f\"pixel y coordinates        : {discrete_radon_transform.pixel_y_coordinates}\")"
   ]
  },
  {
   "cell_type": "markdown",
   "id": "eaee25da",
   "metadata": {
    "deletable": false,
    "editable": false,
    "nbgrader": {
     "cell_type": "markdown",
     "checksum": "64b1d9e6b0aae55181f0694fe15aad67",
     "grade": false,
     "grade_id": "cell-241a6712a8717ecb",
     "locked": true,
     "schema_version": 3,
     "solution": false,
     "task": false
    }
   },
   "source": [
    "The discrete Radon transform (a set of line integrals) is represented as a sinogram with radial (s) and angular (theta) axes.\n",
    "Below, we display the shape of the sinogram and the radial and angular coordinates of its pixels."
   ]
  },
  {
   "cell_type": "code",
   "execution_count": null,
   "id": "8e83ac1e",
   "metadata": {
    "deletable": false,
    "editable": false,
    "nbgrader": {
     "cell_type": "code",
     "checksum": "5deb2457f4b06bcf1f6396a66de57eda",
     "grade": false,
     "grade_id": "cell-7ed15384b6fe3fe9",
     "locked": true,
     "schema_version": 3,
     "solution": false,
     "task": false
    }
   },
   "outputs": [],
   "source": [
    "print(f\"sinogram shape (num_s, num_theta): {discrete_radon_transform.sinogram_shape}\")\n",
    "print(f\"sinogram radial coordinates      : {discrete_radon_transform.s}\")\n",
    "print(f\"sinogram angular coordinates     : {discrete_radon_transform.theta}\")"
   ]
  },
  {
   "cell_type": "markdown",
   "id": "e8a61ae1",
   "metadata": {
    "deletable": false,
    "editable": false,
    "nbgrader": {
     "cell_type": "markdown",
     "checksum": "376849c2080f042ac079c3e79f6b202b",
     "grade": false,
     "grade_id": "cell-ea5ba493933751ca",
     "locked": true,
     "schema_version": 3,
     "solution": false,
     "task": false
    }
   },
   "source": [
    "### Forward Projection of a Centered Point\n",
    "\n",
    "In the two cells below, we create an image that is zero everywhere except at the central pixel, where we assign a value of 1.\n",
    "We then compute the discrete Radon transform of this object (the forward projection):\n",
    "\n",
    "$$\n",
    "p(s,\\theta) = R[f(x,y)]\n",
    "$$"
   ]
  },
  {
   "cell_type": "code",
   "execution_count": null,
   "id": "72279f87",
   "metadata": {
    "deletable": false,
    "editable": false,
    "nbgrader": {
     "cell_type": "code",
     "checksum": "2e6a0704ca1a5497d37b8c415c5cec36",
     "grade": false,
     "grade_id": "cell-f9f83ad931c17f77",
     "locked": true,
     "schema_version": 3,
     "solution": false,
     "task": false
    }
   },
   "outputs": [],
   "source": [
    "# Let's create an image full of zeros everywhere except for a single pixel in the center.\n",
    "# this is called \"f(x,y)\" in the above formula\n",
    "center_point_image = np.zeros(discrete_radon_transform.image_shape, dtype=np.float32)\n",
    "center_point_image[discrete_radon_transform.image_shape[0] // 2, discrete_radon_transform.image_shape[1] // 2] = 1.0"
   ]
  },
  {
   "cell_type": "code",
   "execution_count": null,
   "id": "a5587b9e",
   "metadata": {
    "deletable": false,
    "editable": false,
    "nbgrader": {
     "cell_type": "code",
     "checksum": "abef752535c321fe19eb0744ae8ea107",
     "grade": false,
     "grade_id": "cell-d41d8e46b04d1df5",
     "locked": true,
     "schema_version": 3,
     "solution": false,
     "task": false
    }
   },
   "outputs": [],
   "source": [
    "# Let's calculate the discrete Radon transform of the image\n",
    "# this is called \"p(s,\\theta)\" in the above formula\n",
    "sinogram_center_point = discrete_radon_transform(center_point_image)"
   ]
  },
  {
   "cell_type": "markdown",
   "id": "74bd54f2",
   "metadata": {
    "deletable": false,
    "editable": false,
    "nbgrader": {
     "cell_type": "markdown",
     "checksum": "3489b482f25f984fa4a76ec08107f218",
     "grade": false,
     "grade_id": "cell-54b86220eb3fb1cf",
     "locked": true,
     "schema_version": 3,
     "solution": false,
     "task": false
    }
   },
   "source": [
    "Let's visualize the image of the centered point and its corresponding Radon transform (the sinogram).\n",
    "In the image shown on the left, all values are zero except for a small point at the center, located at world coordinates (x=0, y=0), corresponding to pixel (i=100, j=100)."
   ]
  },
  {
   "cell_type": "code",
   "execution_count": null,
   "id": "ca617e99",
   "metadata": {
    "deletable": false,
    "editable": false,
    "nbgrader": {
     "cell_type": "code",
     "checksum": "e339df5db53e0726d4d7973341a4a300",
     "grade": false,
     "grade_id": "cell-52b7307c7444adc3",
     "locked": true,
     "schema_version": 3,
     "solution": false,
     "task": false
    }
   },
   "outputs": [],
   "source": [
    "# Let's show the center point image and its radon transform (sinogram)\n",
    "\n",
    "image_plot_kws = dict(cmap=\"Grays\", origin=\"lower\", extent=discrete_radon_transform.image_extent)\n",
    "sinogram_plot_kws = dict(\n",
    "    cmap=\"Grays\", origin=\"lower\", extent=discrete_radon_transform.sinogram_extent, aspect=20\n",
    ")\n",
    "\n",
    "fig, ax = plt.subplots(1, 2, figsize=(8, 4), tight_layout=True)\n",
    "im0 = ax[0].imshow(center_point_image.T, **image_plot_kws)\n",
    "im1 = ax[1].imshow(sinogram_center_point.T, **sinogram_plot_kws)\n",
    "ax[0].set_xlabel(discrete_radon_transform.image_axis_labels[0])\n",
    "ax[0].set_ylabel(discrete_radon_transform.image_axis_labels[1])\n",
    "ax[1].set_xlabel(discrete_radon_transform.sinogram_axis_labels[0])\n",
    "ax[1].set_ylabel(discrete_radon_transform.sinogram_axis_labels[1])\n",
    "ax[0].set_title(r\"Center point image $f(x,y)$\", fontsize=\"medium\")\n",
    "ax[1].set_title(r\"Radon transform $p(s,\\theta) = R[f(x,y)]$\", fontsize=\"medium\")\n",
    "fig.colorbar(im0, ax=ax[0], location=\"bottom\", fraction=0.03)\n",
    "fig.colorbar(im1, ax=ax[1], location=\"bottom\", fraction=0.03)"
   ]
  },
  {
   "cell_type": "markdown",
   "id": "6e739e1a",
   "metadata": {
    "deletable": false,
    "editable": false,
    "nbgrader": {
     "cell_type": "markdown",
     "checksum": "e280b5ccd4aaa7fafb0eeae17e70fe11",
     "grade": false,
     "grade_id": "cell-df6d1931b04fd628",
     "locked": true,
     "schema_version": 3,
     "solution": false,
     "task": false
    }
   },
   "source": [
    "## Task 1.1\n",
    "\n",
    "(1.1) Create an image of a point that is off-center. The image should be zero everywhere except at the off-center pixel (i=150, j=100), which corresponds to the world coordinates (x=15, y=0). \n",
    "Compute the discrete Radon transform of this image and visualize both the image and its Radon transform in a figure with two plots, as shown previously for the centered point source.\n"
   ]
  },
  {
   "cell_type": "code",
   "execution_count": null,
   "id": "be89e2dd",
   "metadata": {
    "deletable": false,
    "nbgrader": {
     "cell_type": "code",
     "checksum": "ee4e829e6000ffc5fc062a0dee81a27e",
     "grade": true,
     "grade_id": "cell-b41b6e1282c86fb6",
     "locked": false,
     "points": 3,
     "schema_version": 3,
     "solution": true,
     "task": false
    }
   },
   "outputs": [],
   "source": [
    "# ADD YOUR CODE FOR TASK 1.1 HERE\n",
    "#\n",
    "# offcenter_point_image = ...\n",
    "# sinogram_offcenter_point = ...\n",
    "# \n",
    "# fig2, ax2 = plt.subplots(1, 2, figsize=(8, 4), tight_layout=True)\n",
    "# ...\n",
    "\n",
    "# YOUR CODE HERE\n",
    "raise NotImplementedError()"
   ]
  },
  {
   "cell_type": "markdown",
   "id": "70f0f1dd-5cee-4883-938c-e97d4006ab9e",
   "metadata": {
    "deletable": false,
    "editable": false,
    "nbgrader": {
     "cell_type": "markdown",
     "checksum": "66e283267b2451490eb14cea40dd75a9",
     "grade": false,
     "grade_id": "cell-1831262e269d07a0",
     "locked": true,
     "schema_version": 3,
     "solution": false,
     "task": false
    }
   },
   "source": [
    "## Task 1.2\n",
    "\n",
    "(1.2) What do you observe in the plot of the Radon transform of the off-center point image? \n",
    "How does it compare to the Radon transform of the centered point image?"
   ]
  },
  {
   "cell_type": "markdown",
   "id": "3f484148",
   "metadata": {
    "deletable": false,
    "nbgrader": {
     "cell_type": "markdown",
     "checksum": "4bbb09c95cb1d2c76a10ab148f0d62f0",
     "grade": true,
     "grade_id": "cell-fab38dbe12ae2359",
     "locked": false,
     "points": 2,
     "schema_version": 3,
     "solution": true,
     "task": false
    }
   },
   "source": [
    "YOUR ANSWER HERE"
   ]
  },
  {
   "cell_type": "markdown",
   "id": "dca46e58",
   "metadata": {
    "deletable": false,
    "editable": false,
    "nbgrader": {
     "cell_type": "markdown",
     "checksum": "878b51efe6f94b599ba6e4ab012a5743",
     "grade": false,
     "grade_id": "cell-75eec92b74419a10",
     "locked": true,
     "schema_version": 3,
     "solution": false,
     "task": false
    }
   },
   "source": [
    "## Understanding the Transpose of the Radon Transform (Back Projection)\n",
    "\n",
    "In lecture 02, we learned that it is possible to calculate the transpose of the Radon transform, commonly referred to as backprojection. \n",
    "In the cells below, we:\n",
    "1. create a test image, $f(x,y)$,\n",
    "2. compute the Radon transform of the test image (the forward projection), $p(s,\\theta) = R[f(x,y)]$, and\n",
    "3. compute the transpose of the Radon transform (the backprojection) of the forward projection of the image, $g(x,y) = R^T[ R[f(x,y)]]$."
   ]
  },
  {
   "cell_type": "code",
   "execution_count": null,
   "id": "7ebfafcf",
   "metadata": {
    "deletable": false,
    "editable": false,
    "nbgrader": {
     "cell_type": "code",
     "checksum": "257e1b68e2fba780b2f48c5deca3db54",
     "grade": false,
     "grade_id": "cell-bcc30851014cbfa6",
     "locked": true,
     "schema_version": 3,
     "solution": false,
     "task": false
    }
   },
   "outputs": [],
   "source": [
    "# load a test image\n",
    "test_image0 = demo_image(discrete_radon_transform.pixel_x_coordinates, discrete_radon_transform.pixel_y_coordinates, image_id=0)\n",
    "# calculate the discrete Radon transform of the test image\n",
    "discrete_radon_transform_test_image0 = discrete_radon_transform(test_image0)\n",
    "# back project the Radon transform of the test image\n",
    "back_projected_discrete_radon_transform_test_image0 = discrete_radon_transform.adjoint(discrete_radon_transform_test_image0)"
   ]
  },
  {
   "cell_type": "markdown",
   "id": "d90250c4",
   "metadata": {
    "deletable": false,
    "editable": false,
    "nbgrader": {
     "cell_type": "markdown",
     "checksum": "0ed2b17c12cea88cce8ec75b3fea149e",
     "grade": false,
     "grade_id": "cell-867899e421ef8ae0",
     "locked": true,
     "schema_version": 3,
     "solution": false,
     "task": false
    }
   },
   "source": [
    "Let's visualize the test image, its forward projection and the back projection of the forward projection."
   ]
  },
  {
   "cell_type": "code",
   "execution_count": null,
   "id": "aa8fa730",
   "metadata": {
    "deletable": false,
    "editable": false,
    "nbgrader": {
     "cell_type": "code",
     "checksum": "ad1112b0f16d99d32a87a0b72845131d",
     "grade": false,
     "grade_id": "cell-b243d121464bdd84",
     "locked": true,
     "schema_version": 3,
     "solution": false,
     "task": false
    }
   },
   "outputs": [],
   "source": [
    "# this scale factor is needed due to discretization and makes sure that the\n",
    "# back projections are shown with the correct scale\n",
    "scale_factor = discrete_radon_transform.dtheta / (discrete_radon_transform.pixel_size[0] * discrete_radon_transform.pixel_size[1])\n",
    "\n",
    "fig3, ax3 = plt.subplots(1, 3, figsize=(12, 4), tight_layout=True)\n",
    "im03 = ax3[0].imshow(test_image0.T, **image_plot_kws)\n",
    "im13 = ax3[1].imshow(discrete_radon_transform_test_image0.T, **sinogram_plot_kws)\n",
    "im23 = ax3[2].imshow(scale_factor * back_projected_discrete_radon_transform_test_image0.T, **image_plot_kws)\n",
    "ax3[0].set_xlabel(discrete_radon_transform.image_axis_labels[0])\n",
    "ax3[0].set_ylabel(discrete_radon_transform.image_axis_labels[1])\n",
    "ax3[1].set_xlabel(discrete_radon_transform.sinogram_axis_labels[0])\n",
    "ax3[1].set_ylabel(discrete_radon_transform.sinogram_axis_labels[1])\n",
    "ax3[2].set_xlabel(discrete_radon_transform.image_axis_labels[0])\n",
    "ax3[2].set_ylabel(discrete_radon_transform.image_axis_labels[1])\n",
    "ax3[0].set_title(r\"image $f(x,y)$\", fontsize=\"medium\")\n",
    "ax3[1].set_title(r\"$p(s,\\theta) = R[f(x,y)]$\", fontsize=\"medium\")\n",
    "ax3[2].set_title(r\"$g(x,y) = R^T[R[f(x,y)]]$\", fontsize=\"medium\")\n",
    "fig3.colorbar(im03, ax=ax3[0], location=\"bottom\", fraction=0.03)\n",
    "fig3.colorbar(im13, ax=ax3[1], location=\"bottom\", fraction=0.03)\n",
    "fig3.colorbar(im23, ax=ax3[2], location=\"bottom\", fraction=0.03)"
   ]
  },
  {
   "cell_type": "markdown",
   "id": "38c74a14",
   "metadata": {
    "deletable": false,
    "editable": false,
    "nbgrader": {
     "cell_type": "markdown",
     "checksum": "c6efc7be7e351c0e760a0eaa13678b10",
     "grade": false,
     "grade_id": "cell-fcf3dc09e9ffc1c1",
     "locked": true,
     "schema_version": 3,
     "solution": false,
     "task": false
    }
   },
   "source": [
    "## Task 2.1\n",
    "\n",
    "(2.1) What do you observe in the backprojection of the forward projection? \n",
    "Is the backprojection the inverse of the Radon transform? \n",
    "In other words, can a simple backprojection be used for tomographic image reconstruction?\n"
   ]
  },
  {
   "cell_type": "markdown",
   "id": "838eb53f",
   "metadata": {
    "deletable": false,
    "editable": true,
    "nbgrader": {
     "cell_type": "markdown",
     "checksum": "fbba46fc8e8ebf76f40bfc2778f58bd3",
     "grade": true,
     "grade_id": "cell-70054f8cc325dc06",
     "locked": false,
     "points": 1,
     "schema_version": 3,
     "solution": true,
     "task": false
    },
    "slideshow": {
     "slide_type": ""
    },
    "tags": []
   },
   "source": [
    "YOUR ANSWER HERE"
   ]
  },
  {
   "cell_type": "markdown",
   "id": "0e505f41-1697-420b-8898-702cd8693295",
   "metadata": {
    "deletable": false,
    "editable": false,
    "nbgrader": {
     "cell_type": "markdown",
     "checksum": "f7ae9e5095c067d38e575d917017d82b",
     "grade": false,
     "grade_id": "cell-7b8b83046ff3cd6a",
     "locked": true,
     "schema_version": 3,
     "solution": false,
     "task": false
    }
   },
   "source": [
    "## Task 2.2\n",
    "\n",
    "\n",
    "(2.2) The back projection of the forward projection can be described as a 2D convolution of the input image with a specific kernel in \n",
    "image space? Which kernel is that?"
   ]
  },
  {
   "cell_type": "markdown",
   "id": "bd31b2a0",
   "metadata": {
    "deletable": false,
    "nbgrader": {
     "cell_type": "markdown",
     "checksum": "34f7e3e0953ec96033706b64e11ea9ee",
     "grade": true,
     "grade_id": "cell-2a0062f3d225ded8",
     "locked": false,
     "points": 1,
     "schema_version": 3,
     "solution": true,
     "task": false
    }
   },
   "source": [
    "YOUR ANSWER HERE"
   ]
  },
  {
   "cell_type": "markdown",
   "id": "4b301496",
   "metadata": {
    "deletable": false,
    "editable": false,
    "nbgrader": {
     "cell_type": "markdown",
     "checksum": "49ebea7f7da17ace3bd9e2370ac307ef",
     "grade": false,
     "grade_id": "cell-874557b3005072f3",
     "locked": true,
     "schema_version": 3,
     "solution": false,
     "task": false
    }
   },
   "source": [
    "## Image Reconstruction using Filtered Back Projection (FBP)\n",
    "\n",
    "As we have learned in lecture 02, one way to invert the Radon transform is to use filtered back projection (FBP). In a FBP we back project a sinogram that was \"ramp filtered\" in the radial direction.\n",
    "\n",
    "$$\n",
    "f(x,y) = R^H[q(s,\\theta)]\n",
    "$$\n",
    "\n",
    "where $q(s, \\theta)$ is the ramp filtered sinogram defined by \n",
    "\n",
    "$$\n",
    "q(s,\\theta) = p(s,\\theta) \\ast h(s) = \\mathcal{F}_{1D}^{-1}[\\mathcal{F}_{1D}[p(s,\\theta)] \\, \\hat{h}(\\nu)]\n",
    "$$\n",
    "\n",
    "with \n",
    "\n",
    "$$\n",
    "\\hat{h}(\\nu) = \\begin{cases}\n",
    "|\\nu|, \\ \\text{if} \\ |\\nu| \\leq \\nu_{max}  \\\\\n",
    "0, \\ \\text{otherwise}\n",
    "\\end{cases}\n",
    "$$\n",
    "\n",
    "To test the FBP algorithm, we first a load noise-free test sinogram in the cell below."
   ]
  },
  {
   "cell_type": "code",
   "execution_count": null,
   "id": "c02af2ad",
   "metadata": {
    "deletable": false,
    "editable": false,
    "nbgrader": {
     "cell_type": "code",
     "checksum": "23b9d9572791d2b111ad8cd03f011c63",
     "grade": false,
     "grade_id": "cell-35b83762373b8b59",
     "locked": true,
     "schema_version": 3,
     "solution": false,
     "task": false
    }
   },
   "outputs": [],
   "source": [
    "# load noise-free test sinogram\n",
    "noise_free_sinogram1 = demo_sinogram(discrete_radon_transform.s, discrete_radon_transform.theta, image_id=1, gamma=0.0)"
   ]
  },
  {
   "cell_type": "markdown",
   "id": "d42349d9-4b6f-43f7-8514-0ac871c4a164",
   "metadata": {
    "deletable": false,
    "editable": false,
    "nbgrader": {
     "cell_type": "markdown",
     "checksum": "893ee5a7750e281db7988e7fe59869c3",
     "grade": false,
     "grade_id": "cell-45415dde45e40a39",
     "locked": true,
     "schema_version": 3,
     "solution": false,
     "task": false
    }
   },
   "source": [
    "Before implementing and applying the filtered back projection, we also apply a normal back projection of the sinogram as above."
   ]
  },
  {
   "cell_type": "code",
   "execution_count": null,
   "id": "9ef044dc-7f37-4fa8-81a2-2f89c145353e",
   "metadata": {
    "deletable": false,
    "editable": false,
    "nbgrader": {
     "cell_type": "code",
     "checksum": "3911d1378d66a492e99d085a623a142f",
     "grade": false,
     "grade_id": "cell-a57975feac354dfd",
     "locked": true,
     "schema_version": 3,
     "solution": false,
     "task": false
    }
   },
   "outputs": [],
   "source": [
    "# back project noise free sinogram\n",
    "back_projected_noise_free_sinogram1 = discrete_radon_transform.adjoint(noise_free_sinogram1)"
   ]
  },
  {
   "cell_type": "markdown",
   "id": "eb982388-c280-4cdf-82f1-1c4e1742006b",
   "metadata": {
    "deletable": false,
    "editable": false,
    "nbgrader": {
     "cell_type": "markdown",
     "checksum": "dc5f30e4aabf8b0cbc63aaebe4478625",
     "grade": false,
     "grade_id": "cell-2522c1e8b01b98f7",
     "locked": true,
     "schema_version": 3,
     "solution": false,
     "task": false
    }
   },
   "source": [
    "## Task 3.1\n",
    "\n",
    "(3.1) Implement the ramp filter that we need for FBP by completing the function in the cell below. The input to this function is a single 1D projection profile $p(s)$ for a given $\\theta$ (a \"row\" in a sinogram). The output is the ramp-filtered version of the profile $q(s)$.\n",
    "\n",
    "**Hints:**\n",
    "1. The ramp filter can be implemented either via a multiplication in Fourier space **or** by a convolution in projection space.\n",
    "2. The derivation of the ramp filter in projection space is given [here](https://kul-recon-lab.github.io/course_nucmed_tech/appendix-one#app-ramp). Convolutions can be calculated using [numpy's convolve function](https://numpy.org/doc/stable/reference/generated/numpy.convolve.html).\n",
    "3. For working in Fourier space, you can use [numpy's fast Fourier transform](https://numpy.org/doc/2.1/reference/routines.fft.html)."
   ]
  },
  {
   "cell_type": "code",
   "execution_count": null,
   "id": "c4f8f218",
   "metadata": {
    "deletable": false,
    "nbgrader": {
     "cell_type": "code",
     "checksum": "2b34ed915bcd356b9ab27f9195c713f1",
     "grade": true,
     "grade_id": "cell-0783a0ecb0d9ac09",
     "locked": false,
     "points": 3,
     "schema_version": 3,
     "solution": true,
     "task": false
    }
   },
   "outputs": [],
   "source": [
    "# setup a discrete ramp filter in image space\n",
    "def ramp_filter_projection_profile(projection_profile):\n",
    "    \"\"\"Discrete ramp filter of a single 1D projection profile\n",
    "\n",
    "    Parameters\n",
    "    ----------\n",
    "\n",
    "    projection_profile ... real 1D numpy array\n",
    "       containg a projection profile\n",
    "       p(s) and fixed \\theta in the above notation\n",
    "\n",
    "    Returns\n",
    "    -------\n",
    "\n",
    "    real 1D numpy array\n",
    "    containing the ramp filtered projection profile\n",
    "    q(s) for fixed \\theta in the above notation\n",
    "\n",
    "    Note\n",
    "    ----\n",
    "\n",
    "    The ramp filter can be implemented in projection profile\n",
    "    space using a convolution **or**\n",
    "    in Fourier space using a multiplication.\n",
    "    \"\"\"\n",
    "\n",
    "    # YOUR CODE HERE\n",
    "    raise NotImplementedError()"
   ]
  },
  {
   "cell_type": "code",
   "execution_count": null,
   "id": "bbd1441b-b0a3-4a95-a642-ec971ff29845",
   "metadata": {
    "deletable": false,
    "editable": false,
    "nbgrader": {
     "cell_type": "code",
     "checksum": "cb912b1d7241c9166712237dd4d6ae15",
     "grade": false,
     "grade_id": "cell-193e3e1dd6854f0a",
     "locked": true,
     "schema_version": 3,
     "solution": false,
     "task": false
    }
   },
   "outputs": [],
   "source": [
    "def ramp_filter_sinogram(sinogram):\n",
    "    \"\"\"ramp filter a complete 2D sinogram by applying the filter ramp filter for each projection profile\"\"\"\n",
    "    ramp_filtered_sinogram = np.zeros_like(sinogram)\n",
    "\n",
    "    # loop over the angular dimension of the sinogram\n",
    "    for i in range(sinogram.shape[1]):\n",
    "        # apply the ramp filter for a given projection profile\n",
    "        ramp_filtered_sinogram[:, i] = ramp_filter_projection_profile(sinogram[:, i])\n",
    "\n",
    "    return ramp_filtered_sinogram"
   ]
  },
  {
   "cell_type": "markdown",
   "id": "07795581-9736-46e9-8949-5ac167a98e75",
   "metadata": {
    "deletable": false,
    "editable": false,
    "nbgrader": {
     "cell_type": "markdown",
     "checksum": "61c4bdaaf2889256e455b887665643b1",
     "grade": false,
     "grade_id": "cell-53d1f80821b49caa",
     "locked": true,
     "schema_version": 3,
     "solution": false,
     "task": false
    }
   },
   "source": [
    "Let's apply the ramp filter to the first projection profile of the noise free sinogram and visualize the input, filter and ouput"
   ]
  },
  {
   "cell_type": "code",
   "execution_count": null,
   "id": "ca1ac5d2-4718-4ac2-996b-fb9d5a88ad4b",
   "metadata": {
    "deletable": false,
    "editable": false,
    "nbgrader": {
     "cell_type": "code",
     "checksum": "c4d4d7e914f83ce7b6ca68d6661fde67",
     "grade": false,
     "grade_id": "cell-5b8611a1281d51ab",
     "locked": true,
     "schema_version": 3,
     "solution": false,
     "task": false
    }
   },
   "outputs": [],
   "source": [
    "test_profile = noise_free_sinogram1[:,0]\n",
    "ramp_filtered_test_profile = ramp_filter_projection_profile(test_profile)\n",
    "\n",
    "fig3b, ax3b = plt.subplots(1,2, figsize = (7,3.5), tight_layout = True, sharex = True)\n",
    "ax3b[0].plot(discrete_radon_transform.s, test_profile)\n",
    "ax3b[1].plot(discrete_radon_transform.s, ramp_filtered_test_profile)\n",
    "ax3b[0].set_xlabel(r\"$s$\")\n",
    "ax3b[1].set_xlabel(r\"$s$\")\n",
    "ax3b[0].set_title(r\"$p(s,0)$\")\n",
    "ax3b[1].set_title(r\"$q(s,0) = p(s,0) \\ast h(s)$\")\n",
    "ax3b[0].grid(ls = \":\")\n",
    "ax3b[1].grid(ls = \":\")"
   ]
  },
  {
   "cell_type": "markdown",
   "id": "1e6f539e-0cc7-4e5a-a3b2-015e15b2e075",
   "metadata": {
    "deletable": false,
    "editable": false,
    "nbgrader": {
     "cell_type": "markdown",
     "checksum": "841f3efbd767d26ae25051e71db82d2e",
     "grade": false,
     "grade_id": "cell-e12309d0ccd84747",
     "locked": true,
     "schema_version": 3,
     "solution": false,
     "task": false
    }
   },
   "source": [
    "Let's apply our implemented ramp filter to the complete noise free test sinogram"
   ]
  },
  {
   "cell_type": "code",
   "execution_count": null,
   "id": "da57afab",
   "metadata": {
    "deletable": false,
    "editable": false,
    "nbgrader": {
     "cell_type": "code",
     "checksum": "fc49fc88affe710c445731eea157c1c0",
     "grade": false,
     "grade_id": "cell-fb70a1c0b8e1f8e4",
     "locked": true,
     "schema_version": 3,
     "solution": false,
     "task": false
    }
   },
   "outputs": [],
   "source": [
    "ramp_filtered_noise_free_sinogram1 = ramp_filter_sinogram(noise_free_sinogram1)\n",
    "\n",
    "filtered_back_projected_noise_free_sinogram1 = discrete_radon_transform.adjoint(\n",
    "    ramp_filtered_noise_free_sinogram1\n",
    ")"
   ]
  },
  {
   "cell_type": "markdown",
   "id": "32c0a5a7-1f17-455b-b06d-548ad70eb5ae",
   "metadata": {
    "deletable": false,
    "editable": false,
    "nbgrader": {
     "cell_type": "markdown",
     "checksum": "d485ab1c807356c626382eff01b4eb4d",
     "grade": false,
     "grade_id": "cell-97f1f7ce8e3ea5e7",
     "locked": true,
     "schema_version": 3,
     "solution": false,
     "task": false
    }
   },
   "source": [
    "Let's visualize the: noise free test sinogram, the ramp filtered version of this sinogram, and the back projections of the latter two"
   ]
  },
  {
   "cell_type": "code",
   "execution_count": null,
   "id": "f905203f",
   "metadata": {
    "deletable": false,
    "editable": false,
    "nbgrader": {
     "cell_type": "code",
     "checksum": "701693a5c311cd7fe74ec331f32c3056",
     "grade": false,
     "grade_id": "cell-76392f6e304504df",
     "locked": true,
     "schema_version": 3,
     "solution": false,
     "task": false
    }
   },
   "outputs": [],
   "source": [
    "fig4, ax4 = plt.subplots(2, 2, figsize=(8, 8), tight_layout=True, sharex = \"col\", sharey = \"col\")\n",
    "im04 = ax4[0, 0].imshow(noise_free_sinogram1.T, **sinogram_plot_kws)\n",
    "im14 = ax4[0, 1].imshow(\n",
    "    scale_factor * back_projected_noise_free_sinogram1.T, **image_plot_kws\n",
    ")\n",
    "im24 = ax4[1, 0].imshow(ramp_filtered_noise_free_sinogram1.T, **sinogram_plot_kws)\n",
    "im34 = ax4[1, 1].imshow(\n",
    "    scale_factor * filtered_back_projected_noise_free_sinogram1.T, **image_plot_kws\n",
    ")\n",
    "ax4[0, 0].set_xlabel(discrete_radon_transform.sinogram_axis_labels[0])\n",
    "ax4[0, 0].set_ylabel(discrete_radon_transform.sinogram_axis_labels[1])\n",
    "ax4[0, 1].set_xlabel(discrete_radon_transform.image_axis_labels[0])\n",
    "ax4[0, 1].set_ylabel(discrete_radon_transform.image_axis_labels[1])\n",
    "ax4[1, 0].set_xlabel(discrete_radon_transform.sinogram_axis_labels[0])\n",
    "ax4[1, 0].set_ylabel(discrete_radon_transform.sinogram_axis_labels[1])\n",
    "ax4[1, 1].set_xlabel(discrete_radon_transform.image_axis_labels[0])\n",
    "ax4[1, 1].set_ylabel(discrete_radon_transform.image_axis_labels[1])\n",
    "ax4[0, 0].set_title(r\"acquired sinogram $y$\", fontsize=\"medium\")\n",
    "ax4[0, 1].set_title(r\"back projection of sinogram $R^T y$\", fontsize=\"medium\")\n",
    "ax4[1, 0].set_title(r\"ramp filtered acquired sinogram $y \\ast h$\", fontsize=\"medium\")\n",
    "ax4[1, 1].set_title(\n",
    "    r\"back projection of filtered sinogram $R^T(y \\ast h)$\", fontsize=\"medium\"\n",
    ")\n",
    "fig4.colorbar(im04, ax=ax4[0, 0], location=\"bottom\", fraction=0.03)\n",
    "fig4.colorbar(im14, ax=ax4[0, 1], location=\"bottom\", fraction=0.03)\n",
    "fig4.colorbar(im24, ax=ax4[1, 0], location=\"bottom\", fraction=0.03)\n",
    "fig4.colorbar(im34, ax=ax4[1, 1], location=\"bottom\", fraction=0.03)"
   ]
  },
  {
   "cell_type": "markdown",
   "id": "50b57627-3ee0-4492-ba6a-9cb5b3ff13f5",
   "metadata": {
    "deletable": false,
    "editable": false,
    "nbgrader": {
     "cell_type": "markdown",
     "checksum": "7762257529d238776d34cc5412a1e311",
     "grade": false,
     "grade_id": "cell-c8d124acc00fe425",
     "locked": true,
     "schema_version": 3,
     "solution": false,
     "task": false
    }
   },
   "source": [
    "## Iterative image reconstruction using MLEM\n",
    "\n",
    "In lecture 03, we have learned that we can also iteratively invert the Radon transform (reconstruct the image) using the MLEM update given by\n",
    "\n",
    "$$\n",
    "x^{(n+1)} = \\frac{x^{(n)}}{A^T 1} A^T \\left( \\frac{y}{A x^{(n)}} \\right)\n",
    "$$\n",
    "\n",
    "where:\n",
    "1. $x^{(n)}$ is the image at iteration $n$\n",
    "2. $y$ is the (measured) sinogram to be reconstructed\n",
    "3. $A$ is the linear physics forward model - in our case here the discrete Radon transform $R$\n",
    "4. $A^T$ is the adjoint (transpose) of the linear physics forward model\n",
    "5. $A^T 1$ is the adjoint of the linear physics forward model applied to a sinogram full of ones. This image is called the senstivity image"
   ]
  },
  {
   "cell_type": "markdown",
   "id": "f76a03a1-5560-48c7-855a-e1995083991d",
   "metadata": {
    "deletable": false,
    "editable": false,
    "nbgrader": {
     "cell_type": "markdown",
     "checksum": "74a1241d868fcbdb709fc69a28061a61",
     "grade": false,
     "grade_id": "cell-5dc43cad957867a8",
     "locked": true,
     "schema_version": 3,
     "solution": false,
     "task": false
    }
   },
   "source": [
    "## Task 4.1\n",
    "\n",
    "(4.1) Implement the MLEM update of the formula above, by completing the function in the cell below.\n",
    "The input the the update function are:\n",
    "1. the `current_image` ($x^{(n)}$)\n",
    "2. the `data_sinogram` to be reconstructed ($y$)\n",
    "3. the `linear_physics_operator` ($A$)\n",
    "4. the `sensitivity_image` ($A^T 1$)\n",
    "\n",
    "The output the function is supposed to be the MLEM updated image $(x^{(n+1)})$."
   ]
  },
  {
   "cell_type": "code",
   "execution_count": null,
   "id": "12bb71c9",
   "metadata": {
    "deletable": false,
    "nbgrader": {
     "cell_type": "code",
     "checksum": "0527620f3a5bd104009cf025bf5bfe83",
     "grade": true,
     "grade_id": "cell-c0139ac38cfdda81",
     "locked": false,
     "points": 3,
     "schema_version": 3,
     "solution": true,
     "task": false
    }
   },
   "outputs": [],
   "source": [
    "def my_mlem_update(current_image, data_sinogram, linear_physics_operator, sensitivity_image):\n",
    "    # YOUR CODE HERE\n",
    "    raise NotImplementedError()"
   ]
  },
  {
   "cell_type": "markdown",
   "id": "4609d055-1ede-433b-bc16-6f94d5f9e23c",
   "metadata": {
    "deletable": false,
    "editable": false,
    "nbgrader": {
     "cell_type": "markdown",
     "checksum": "5ab4b55276241dc475f8d65286107e3a",
     "grade": false,
     "grade_id": "cell-b694afef64b70be3",
     "locked": true,
     "schema_version": 3,
     "solution": false,
     "task": false
    }
   },
   "source": [
    "Let's run MLEM using 100 iterations and store all 100 iterates as well as the initialization."
   ]
  },
  {
   "cell_type": "code",
   "execution_count": null,
   "id": "649cd7a8",
   "metadata": {
    "deletable": false,
    "editable": false,
    "nbgrader": {
     "cell_type": "code",
     "checksum": "b08f6a916c1fcd33691a022b110b2403",
     "grade": false,
     "grade_id": "cell-e92982b4855feee0",
     "locked": true,
     "schema_version": 3,
     "solution": false,
     "task": false
    }
   },
   "outputs": [],
   "source": [
    "# number of MLEM iterations\n",
    "num_iterations = 100\n",
    "\n",
    "# precalculate the sensitivity image A^T 1\n",
    "sens_image = discrete_radon_transform.adjoint(np.ones(discrete_radon_transform.sinogram_shape, dtype=np.float32))\n",
    "\n",
    "# allocate an array for all 50 MLEm updates and the initialization \n",
    "mlem_iterates = np.zeros((num_iterations + 1,) + discrete_radon_transform.image_shape, dtype=np.float32)\n",
    "\n",
    "# initialize with the 0-th MLEM iterate with a disk full of 0.5\n",
    "X, Y = np.meshgrid(discrete_radon_transform.pixel_x_coordinates, discrete_radon_transform.pixel_y_coordinates, indexing=\"ij\")\n",
    "R = np.sqrt(X**2 + Y**2)\n",
    "mlem_iterates[0, ...][R <= discrete_radon_transform.s.max()] = 0.5\n",
    "\n",
    "# run the MLEM updates\n",
    "for i in range(num_iterations):\n",
    "    print(f\"{(i+1):03}/{num_iterations:03}\", end=\"\\r\")\n",
    "    mlem_iterates[i + 1, ...] = my_mlem_update(\n",
    "        current_image=mlem_iterates[i, ...],\n",
    "        data_sinogram=noise_free_sinogram1,\n",
    "        linear_physics_operator=discrete_radon_transform,\n",
    "        sensitivity_image=sens_image,\n",
    "    )"
   ]
  },
  {
   "cell_type": "markdown",
   "id": "cd2398e8-6aca-41db-84f8-5322a427edea",
   "metadata": {
    "deletable": false,
    "editable": false,
    "nbgrader": {
     "cell_type": "markdown",
     "checksum": "4d3c6f7eb00ce49257a7404a1b7f9230",
     "grade": false,
     "grade_id": "cell-cfb5a6a40328be32",
     "locked": true,
     "schema_version": 3,
     "solution": false,
     "task": false
    }
   },
   "source": [
    "Let's visualize the MLEM updates and also the convergence of the two pixels:\n",
    "1. (i=100, j=115) corresponding to the world coordinates (x=0, y=4.4)\n",
    "2. (i=67, j=100) corresponding to the world coordinates (x=-10, y=0)"
   ]
  },
  {
   "cell_type": "code",
   "execution_count": null,
   "id": "60e091a8",
   "metadata": {
    "deletable": false,
    "editable": false,
    "nbgrader": {
     "cell_type": "code",
     "checksum": "eea4d99bac1326d42917081e2ba16ef2",
     "grade": false,
     "grade_id": "cell-8dd46202ba3980c3",
     "locked": true,
     "schema_version": 3,
     "solution": false,
     "task": false
    }
   },
   "outputs": [],
   "source": [
    "# show the MLEM iterates\n",
    "fig5, ax5 = plt.subplots(\n",
    "    4, 4, figsize=(12, 12), tight_layout=True, sharex=\"row\", sharey=\"row\"\n",
    ")\n",
    "\n",
    "# show a few selected MLEM updates\n",
    "for i, it in enumerate([0, 1, 2, 3, 4, 5, 6, 7, 10, 20, 40, num_iterations]):\n",
    "    im = ax5.ravel()[i].imshow(mlem_iterates[it].T, **image_plot_kws, vmax=1.75)\n",
    "    ax5.ravel()[i].set_title(f\"MLEM iterate {it}\", fontsize=\"medium\")\n",
    "    ax5.ravel()[i].set_xlabel(discrete_radon_transform.image_axis_labels[0])\n",
    "    ax5.ravel()[i].set_ylabel(discrete_radon_transform.image_axis_labels[1])\n",
    "    fig5.colorbar(im, ax=ax5.ravel()[i], location=\"bottom\", fraction=0.03, pad = 0.2)\n",
    "\n",
    "# show the converges of the in two selected pixels\n",
    "ax5[-1, 0].plot(mlem_iterates[:, 100, 115])\n",
    "ax5[-1, 1].plot(mlem_iterates[:, 67, 100])\n",
    "\n",
    "for axx in ax5[-1, :2]:\n",
    "    axx.set_xlabel(\"MLEM iteration\")\n",
    "    axx.set_ylabel(\"pixel value\")\n",
    "    axx.grid(ls=\":\")\n",
    "ax5[-1, 0].set_title(\"convergence pixel (100, 115)\", fontsize=\"medium\")\n",
    "ax5[-1, 1].set_title(\"convergence pixel (67, 100)\", fontsize=\"medium\")\n",
    "for axx in ax5[-1, 2:]:\n",
    "    axx.set_axis_off()"
   ]
  },
  {
   "cell_type": "markdown",
   "id": "95739c84-69b0-48b0-addf-c05e3ac8f0d3",
   "metadata": {
    "deletable": false,
    "editable": false,
    "nbgrader": {
     "cell_type": "markdown",
     "checksum": "b66a7f23034c34187abea179531a7c93",
     "grade": false,
     "grade_id": "cell-0672d78a7cafdc49",
     "locked": true,
     "schema_version": 3,
     "solution": false,
     "task": false
    }
   },
   "source": [
    "## Task 5.1\n",
    "\n",
    "(5.1) What do you observe regarding the convergence of the values in the two pixels `(i=150,j=172)` and `(i=100,j=150)`? How do the values after 25 iterations compare to the values after 75 iterations? Can you explain potential differences in the convergence between the two pixels?"
   ]
  },
  {
   "cell_type": "markdown",
   "id": "a7c348d6-91e0-441a-8768-13b7b3f892b9",
   "metadata": {
    "deletable": false,
    "nbgrader": {
     "cell_type": "markdown",
     "checksum": "8198caad6083eadf6a3b605ebe6e4f3b",
     "grade": true,
     "grade_id": "cell-bc244447a368e9f7",
     "locked": false,
     "points": 2,
     "schema_version": 3,
     "solution": true,
     "task": false
    }
   },
   "source": [
    "YOUR ANSWER HERE"
   ]
  },
  {
   "cell_type": "markdown",
   "id": "6022d397-7bec-437d-927a-94b14cf4f5dd",
   "metadata": {
    "deletable": false,
    "editable": false,
    "nbgrader": {
     "cell_type": "markdown",
     "checksum": "a07bbc7c80f59f7a385be0b8033e04f6",
     "grade": false,
     "grade_id": "cell-279965f4b17cabfb",
     "locked": true,
     "schema_version": 3,
     "solution": false,
     "task": false
    }
   },
   "source": [
    "## Reconstruction of noisy sinograms using FBP and MLEM\n",
    "\n",
    "In the following, we will reconstruct sinograms suffering from Poisson noise using FBP and MLEM.\n",
    "In the cell below we load a noisy version of the test sinogram."
   ]
  },
  {
   "cell_type": "code",
   "execution_count": null,
   "id": "f9bbcbc2-3982-48cd-baaa-6427c42cc1bc",
   "metadata": {
    "deletable": false,
    "editable": false,
    "nbgrader": {
     "cell_type": "code",
     "checksum": "72b906925bceaca56bae2b28915128f3",
     "grade": false,
     "grade_id": "cell-f75640bef769d709",
     "locked": true,
     "schema_version": 3,
     "solution": false,
     "task": false
    }
   },
   "outputs": [],
   "source": [
    "# load noisy test sinogram\n",
    "noisy_sinogram1 = demo_sinogram(discrete_radon_transform.s, discrete_radon_transform.theta, image_id=1, gamma=1.0)"
   ]
  },
  {
   "cell_type": "markdown",
   "id": "6d478f14-d3b1-4af3-aedd-ce2f62fc5944",
   "metadata": {
    "deletable": false,
    "editable": false,
    "nbgrader": {
     "cell_type": "markdown",
     "checksum": "37d18ea6a34c2abcc96c7bda914b5a50",
     "grade": false,
     "grade_id": "cell-8b8fd47e7900dadf",
     "locked": true,
     "schema_version": 3,
     "solution": false,
     "task": false
    }
   },
   "source": [
    "Let's calculate a back projection as well as a filtered back projection of the noisy sinogram"
   ]
  },
  {
   "cell_type": "code",
   "execution_count": null,
   "id": "86d6524d-5d80-4b24-aeb0-80eaf886c451",
   "metadata": {
    "deletable": false,
    "editable": false,
    "nbgrader": {
     "cell_type": "code",
     "checksum": "d894847f91ea42252b2fa69039a57863",
     "grade": false,
     "grade_id": "cell-2971ae76470190df",
     "locked": true,
     "schema_version": 3,
     "solution": false,
     "task": false
    }
   },
   "outputs": [],
   "source": [
    "back_projected_noisy_sinogram1 = discrete_radon_transform.adjoint(noisy_sinogram1)\n",
    "\n",
    "ramp_filtered_noisy_sinogram1 = ramp_filter_sinogram(noisy_sinogram1)\n",
    "\n",
    "filtered_back_projected_noisy_sinogram1 = discrete_radon_transform.adjoint(\n",
    "    ramp_filtered_noisy_sinogram1\n",
    ")"
   ]
  },
  {
   "cell_type": "markdown",
   "id": "a8edba67-7c07-4bf3-814a-640a7f140b00",
   "metadata": {
    "deletable": false,
    "editable": false,
    "nbgrader": {
     "cell_type": "markdown",
     "checksum": "76c8e539506ccfec42294321c84e87f0",
     "grade": false,
     "grade_id": "cell-e90b72feb14875f3",
     "locked": true,
     "schema_version": 3,
     "solution": false,
     "task": false
    }
   },
   "source": [
    "Let's visualize the noisy sinogram, it's ramp-filtered version and the back projection of the latter two."
   ]
  },
  {
   "cell_type": "code",
   "execution_count": null,
   "id": "da114027-a6a2-4672-a892-8f034614e43f",
   "metadata": {
    "deletable": false,
    "editable": false,
    "nbgrader": {
     "cell_type": "code",
     "checksum": "c5e1d71d174982d7cefd8da3389da125",
     "grade": false,
     "grade_id": "cell-d7afc186c47d1b48",
     "locked": true,
     "schema_version": 3,
     "solution": false,
     "task": false
    }
   },
   "outputs": [],
   "source": [
    "fig6, ax6 = plt.subplots(2, 2, figsize=(8, 8), tight_layout=True, sharex = \"col\", sharey = \"col\")\n",
    "im06 = ax6[0, 0].imshow(noisy_sinogram1.T, **sinogram_plot_kws)\n",
    "im16 = ax6[0, 1].imshow(\n",
    "    scale_factor * back_projected_noisy_sinogram1.T, **image_plot_kws\n",
    ")\n",
    "im26 = ax6[1, 0].imshow(ramp_filtered_noisy_sinogram1.T, **sinogram_plot_kws)\n",
    "im36 = ax6[1, 1].imshow(\n",
    "    scale_factor * filtered_back_projected_noisy_sinogram1.T, **image_plot_kws\n",
    ")\n",
    "ax6[0, 0].set_xlabel(discrete_radon_transform.sinogram_axis_labels[0])\n",
    "ax6[0, 0].set_ylabel(discrete_radon_transform.sinogram_axis_labels[1])\n",
    "ax6[0, 1].set_xlabel(discrete_radon_transform.image_axis_labels[0])\n",
    "ax6[0, 1].set_ylabel(discrete_radon_transform.image_axis_labels[1])\n",
    "ax6[1, 0].set_xlabel(discrete_radon_transform.sinogram_axis_labels[0])\n",
    "ax6[1, 0].set_ylabel(discrete_radon_transform.sinogram_axis_labels[1])\n",
    "ax6[1, 1].set_xlabel(discrete_radon_transform.image_axis_labels[0])\n",
    "ax6[1, 1].set_ylabel(discrete_radon_transform.image_axis_labels[1])\n",
    "ax6[0, 0].set_title(r\"acquired sinogram $y$\", fontsize=\"medium\")\n",
    "ax6[0, 1].set_title(r\"back projection of sinogram $R^T y$\", fontsize=\"medium\")\n",
    "ax6[1, 0].set_title(r\"ramp filtered acquired sinogram $y \\ast h$\", fontsize=\"medium\")\n",
    "ax6[1, 1].set_title(\n",
    "    r\"back projection of filtered sinogram $R^T(y \\ast h)$\", fontsize=\"medium\"\n",
    ")\n",
    "fig6.colorbar(im06, ax=ax6[0, 0], location=\"bottom\", fraction=0.03)\n",
    "fig6.colorbar(im16, ax=ax6[0, 1], location=\"bottom\", fraction=0.03)\n",
    "fig6.colorbar(im26, ax=ax6[1, 0], location=\"bottom\", fraction=0.03)\n",
    "fig6.colorbar(im36, ax=ax6[1, 1], location=\"bottom\", fraction=0.03)"
   ]
  },
  {
   "cell_type": "markdown",
   "id": "2b763d05-c203-425d-8fee-74d8dba78be6",
   "metadata": {
    "deletable": false,
    "editable": false,
    "nbgrader": {
     "cell_type": "markdown",
     "checksum": "fe6c6e2bdf79205130ccd86930d4b474",
     "grade": false,
     "grade_id": "cell-bc966661af061c8c",
     "locked": true,
     "schema_version": 3,
     "solution": false,
     "task": false
    }
   },
   "source": [
    "Let's also reconstruct the noisy sinogram using 100 MLEM iterations."
   ]
  },
  {
   "cell_type": "code",
   "execution_count": null,
   "id": "05c020a9-3cad-417e-96f2-ac1a71f5d2af",
   "metadata": {
    "deletable": false,
    "editable": false,
    "nbgrader": {
     "cell_type": "code",
     "checksum": "8f0aa06e49ed8539a4ba46006c2bfd75",
     "grade": false,
     "grade_id": "cell-309eece05b13796e",
     "locked": true,
     "schema_version": 3,
     "solution": false,
     "task": false
    }
   },
   "outputs": [],
   "source": [
    "# allocate an array for all 50 MLEm updates and the initialization \n",
    "mlem_iterates_noisy = np.zeros((num_iterations + 1,) + discrete_radon_transform.image_shape, dtype=np.float32)\n",
    "\n",
    "# initialize with the 0-th MLEM iterate with a disk full 0.5\n",
    "X, Y = np.meshgrid(discrete_radon_transform.pixel_x_coordinates, discrete_radon_transform.pixel_y_coordinates, indexing=\"ij\")\n",
    "R = np.sqrt(X**2 + Y**2)\n",
    "mlem_iterates_noisy[0, ...][R <= discrete_radon_transform.s.max()] = 0.5\n",
    "\n",
    "# run the MLEM updates\n",
    "for i in range(num_iterations):\n",
    "    print(f\"{(i+1):03}/{num_iterations:03}\", end=\"\\r\")\n",
    "    mlem_iterates_noisy[i + 1, ...] = my_mlem_update(\n",
    "        current_image=mlem_iterates_noisy[i, ...],\n",
    "        data_sinogram=noisy_sinogram1,\n",
    "        linear_physics_operator=discrete_radon_transform,\n",
    "        sensitivity_image=sens_image,\n",
    "    )"
   ]
  },
  {
   "cell_type": "code",
   "execution_count": null,
   "id": "51af1c53-e0d6-4006-b6ee-05a77e220629",
   "metadata": {
    "deletable": false,
    "editable": false,
    "nbgrader": {
     "cell_type": "code",
     "checksum": "e9351e75721b102c077586ac00dbed31",
     "grade": false,
     "grade_id": "cell-65a948ec76d61105",
     "locked": true,
     "schema_version": 3,
     "solution": false,
     "task": false
    }
   },
   "outputs": [],
   "source": [
    "# show the MLEM iterates\n",
    "fig7, ax7 = plt.subplots(\n",
    "    4, 4, figsize=(12, 12), tight_layout=True, sharex=\"row\", sharey=\"row\"\n",
    ")\n",
    "\n",
    "# show a few selected MLEM updates\n",
    "for i, it in enumerate([0, 1, 2, 3, 4, 5, 6, 7, 10, 20, 40, num_iterations]):\n",
    "    im = ax7.ravel()[i].imshow(mlem_iterates_noisy[it].T, **image_plot_kws, vmax=np.percentile(mlem_iterates_noisy[-1,...],99.9))\n",
    "    ax7.ravel()[i].set_title(f\"MLEM iterate {it}\", fontsize=\"medium\")\n",
    "    ax7.ravel()[i].set_xlabel(discrete_radon_transform.image_axis_labels[0])\n",
    "    ax7.ravel()[i].set_ylabel(discrete_radon_transform.image_axis_labels[1])\n",
    "    fig7.colorbar(im, ax=ax7.ravel()[i], location=\"bottom\", fraction=0.03, pad = 0.2)\n",
    "\n",
    "# show the converges of the in two selected pixels\n",
    "ax7[-1, 0].plot(mlem_iterates_noisy[:, 100, 115])\n",
    "ax7[-1, 1].plot(mlem_iterates_noisy[:, 67, 100])\n",
    "\n",
    "for axx in ax7[-1, :2]:\n",
    "    axx.set_xlabel(\"MLEM iteration\")\n",
    "    axx.set_ylabel(\"pixel value\")\n",
    "    axx.grid(ls=\":\")\n",
    "ax7[-1, 0].set_title(\"convergence pixel (100, 115)\", fontsize=\"medium\")\n",
    "ax7[-1, 1].set_title(\"convergence pixel (67, 100)\", fontsize=\"medium\")\n",
    "for axx in ax7[-1, 2:]:\n",
    "    axx.set_axis_off()"
   ]
  },
  {
   "cell_type": "markdown",
   "id": "a68d2fc5-d2f4-4505-9d8d-c4c61379a746",
   "metadata": {
    "deletable": false,
    "editable": false,
    "nbgrader": {
     "cell_type": "markdown",
     "checksum": "6ab923dbec67e72b656374987d0c9159",
     "grade": false,
     "grade_id": "cell-28a2c7852fe46ec3",
     "locked": true,
     "schema_version": 3,
     "solution": false,
     "task": false
    }
   },
   "source": [
    "## Task 6.1\n",
    "\n",
    "(6.1) Describe the differences between the filtered back projection and MLEM (after 100 iterations) reconstructions of the noisy sinogram."
   ]
  },
  {
   "cell_type": "markdown",
   "id": "5be2e3d1-d967-4860-829b-c5000147c9fd",
   "metadata": {
    "deletable": false,
    "nbgrader": {
     "cell_type": "markdown",
     "checksum": "5c084960d960183e10b2e16d6b7d8d40",
     "grade": true,
     "grade_id": "cell-526ea3775235ebf6",
     "locked": false,
     "points": 1,
     "schema_version": 3,
     "solution": true,
     "task": false
    }
   },
   "source": [
    "YOUR ANSWER HERE"
   ]
  },
  {
   "cell_type": "markdown",
   "id": "8644e4d2-dcd4-4fb1-9928-9209e885a9d7",
   "metadata": {
    "deletable": false,
    "editable": false,
    "nbgrader": {
     "cell_type": "markdown",
     "checksum": "8ee73da5fdf7ea40c3dd0869e10f86a0",
     "grade": false,
     "grade_id": "cell-0252d3395698d9d2",
     "locked": true,
     "schema_version": 3,
     "solution": false,
     "task": false
    }
   },
   "source": [
    "## Task 6.2\n",
    "\n",
    "(6.2) Describe the differences between the early (5-10) and later MLEM iterates (40-100) in terms of spatial resolution and noise and explain why that is."
   ]
  },
  {
   "cell_type": "markdown",
   "id": "5dfc13fd-b000-4f30-b770-a1d39123a687",
   "metadata": {
    "deletable": false,
    "nbgrader": {
     "cell_type": "markdown",
     "checksum": "ca542eb075407773d77896267745a8c3",
     "grade": true,
     "grade_id": "cell-e77ee70b746e08fa",
     "locked": false,
     "points": 2,
     "schema_version": 3,
     "solution": true,
     "task": false
    }
   },
   "source": [
    "YOUR ANSWER HERE"
   ]
  }
 ],
 "metadata": {
  "kernelspec": {
   "display_name": "Python 3 (ipykernel)",
   "language": "python",
   "name": "python3"
  },
  "language_info": {
   "codemirror_mode": {
    "name": "ipython",
    "version": 3
   },
   "file_extension": ".py",
   "mimetype": "text/x-python",
   "name": "python",
   "nbconvert_exporter": "python",
   "pygments_lexer": "ipython3",
   "version": "3.12.7"
  }
 },
 "nbformat": 4,
 "nbformat_minor": 5
}
