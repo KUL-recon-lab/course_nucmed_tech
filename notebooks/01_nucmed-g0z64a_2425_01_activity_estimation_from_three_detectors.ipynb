{
 "cells": [
  {
   "cell_type": "markdown",
   "id": "bd08cc46-cadc-4d5f-a7b2-d9c3cec105b2",
   "metadata": {
    "deletable": false,
    "editable": false,
    "nbgrader": {
     "cell_type": "markdown",
     "checksum": "9dc29bdc025880bc575be76984a41985",
     "grade": false,
     "grade_id": "cell-03a3b560a22cac85",
     "locked": true,
     "schema_version": 3,
     "solution": false,
     "task": false
    }
   },
   "source": [
    "# Comparison of activity estimators for a single source measured by a three detector setup"
   ]
  },
  {
   "cell_type": "markdown",
   "id": "3a2c52f2-0c4d-46c4-a92c-435bee84f72b",
   "metadata": {
    "deletable": false,
    "editable": false,
    "nbgrader": {
     "cell_type": "markdown",
     "checksum": "6bb6cfdb8dbf8182ea2961c225113a26",
     "grade": false,
     "grade_id": "cell-a50d02be4571fd3b",
     "locked": true,
     "schema_version": 3,
     "solution": false,
     "task": false
    }
   },
   "source": [
    "A radioactive source of unknown activity $x$ is put in front of 3 detectors with different instrinsic detection efficiencies (see figure below). The expected number for the detected counts $\\bar{y}_1, \\bar{y}_2, \\bar{y}_3$ for a measurement with an acquisition time that is much shorter than the half life of the source is given by\n",
    "\n",
    "$$\\bar{y}_1(x) = a_1 \\, x$$\n",
    "$$\\bar{y}_2(x) = a_2 \\, x$$\n",
    "$$\\bar{y}_3(x) = a_3 \\, x$$\n",
    "\n",
    "where $a_1$, $a_2$, $a_3$ denote the total detection efficiencies (product of instrinsic efficiencies and acquisition time). In this notebook we assume $a_1>0$, $a_2>0$, and $a_3>0$."
   ]
  },
  {
   "cell_type": "markdown",
   "id": "e4b2736e-4d77-4f64-8a24-9491b09c7144",
   "metadata": {
    "deletable": false,
    "editable": false,
    "nbgrader": {
     "cell_type": "markdown",
     "checksum": "fc60104f359725d7c77953840d018cae",
     "grade": false,
     "grade_id": "cell-fda88f6c834f18c1",
     "locked": true,
     "schema_version": 3,
     "solution": false,
     "task": false
    }
   },
   "source": [
    "![Figure 1: A source of unknown activity in front of three detectors](three_detectors.svg)"
   ]
  },
  {
   "cell_type": "markdown",
   "id": "c75613e1-9d8d-4c38-a6ee-fc01715b2daa",
   "metadata": {
    "deletable": false,
    "editable": false,
    "nbgrader": {
     "cell_type": "markdown",
     "checksum": "11a407d3de9fad036c068e363516d041",
     "grade": false,
     "grade_id": "cell-ddc9f9588d639cef",
     "locked": true,
     "schema_version": 3,
     "solution": false,
     "task": false
    }
   },
   "source": [
    "## Learning objectives of this notebook\n",
    "\n",
    "1. **Implementing different estimators for the unknown activity of a source placed in front of three detectors yielding count measurements following a Poisson distribution.**\n",
    "2. **Comparing different activity estimators in terms of expectation (bias) and variance (precision).**"
   ]
  },
  {
   "cell_type": "markdown",
   "id": "963ac0d8-99fc-48cc-b745-1a956df66786",
   "metadata": {
    "deletable": false,
    "editable": false,
    "nbgrader": {
     "cell_type": "markdown",
     "checksum": "8839cebf2afdec367d115aac7b2b2297",
     "grade": false,
     "grade_id": "cell-ec46703af005795c",
     "locked": true,
     "schema_version": 3,
     "solution": false,
     "task": false
    }
   },
   "source": [
    "## Important Instructions\n",
    "\n",
    "### Task Overview\n",
    "\n",
    "This notebook includes the following tasks, **make sure to complete all of them**:\n",
    "- Task 1.1 and 1.2\n",
    "- Task 2\n",
    "- Task 3\n",
    "- Task 4.1, 4.2.a, 4.2.b\n",
    "- Task 5\n",
    "- Task 6\n",
    "\n",
    "### Programming Task Guidelines\n",
    "\n",
    "- All programming tasks should be completed **within the provided code cells**\n",
    "- **Do not create new cells**, as this will interfere with the autograding system (nbgrader).\n",
    "- remove the `raise NotImplementedError` lines and insert your code there\n",
    "\n",
    "**Note**: \n",
    "- Adhering to these instructions will ensure a smooth grading process.\n",
    "- If anything is unclear, contact your instructor.\n"
   ]
  },
  {
   "cell_type": "code",
   "execution_count": null,
   "id": "fe4e35ad-184f-4d2b-9dcd-4206632a6058",
   "metadata": {
    "deletable": false,
    "editable": false,
    "nbgrader": {
     "cell_type": "code",
     "checksum": "3bcb9e7bfb2160859cea1da8f759548b",
     "grade": false,
     "grade_id": "cell-f0eda8d0d1984a59",
     "locked": true,
     "schema_version": 3,
     "solution": false,
     "task": false
    }
   },
   "outputs": [],
   "source": [
    "# check wether the IPython version is new enough.\n",
    "# We need IPython >= 3 for the autograding\n",
    "import IPython\n",
    "if IPython.version_info[0] < 3:\n",
    "    raise ValueError(\"Your version of IPython is too old, please update it.\")"
   ]
  },
  {
   "cell_type": "code",
   "execution_count": null,
   "id": "8cab6845-eefe-4ddb-a7bb-95dae27fad12",
   "metadata": {
    "deletable": false,
    "editable": false,
    "nbgrader": {
     "cell_type": "code",
     "checksum": "f63be813b36a85bea1c7e298c0a7a636",
     "grade": false,
     "grade_id": "cell-43072738b1aafd68",
     "locked": true,
     "schema_version": 3,
     "solution": false,
     "task": false
    }
   },
   "outputs": [],
   "source": [
    "# import the module needed for this notebook\n",
    "import numpy as np\n",
    "import matplotlib.pyplot as plt"
   ]
  },
  {
   "cell_type": "markdown",
   "id": "dd545786-160f-4d2e-8e96-6eded18086bb",
   "metadata": {
    "deletable": false,
    "editable": false,
    "nbgrader": {
     "cell_type": "markdown",
     "checksum": "ee4e618564a5fd5f75881d48460951c6",
     "grade": false,
     "grade_id": "cell-2501072b3bd6482d",
     "locked": true,
     "schema_version": 3,
     "solution": false,
     "task": false
    }
   },
   "source": [
    "## Data simulation\n",
    "\n",
    "We first simulate the outcome of many measurements for the hypothetical case of $x$ = 10.0Bq, $a_1$ = 3.0s, $a_2$ = 1.0s, $a_3$ = 0.25s.\n",
    "\n",
    "**Note**: In real life, the **true value** of the **source activity is unknown**. Here we assume a hypothetical value to be able to simulate experiment outcomes that we can use to study different estimators."
   ]
  },
  {
   "cell_type": "code",
   "execution_count": null,
   "id": "695803eb-4039-4ce1-a64e-b3761a72c15a",
   "metadata": {
    "deletable": false,
    "editable": false,
    "nbgrader": {
     "cell_type": "code",
     "checksum": "ffef6a18ec7a89497322cb26ba5991b0",
     "grade": false,
     "grade_id": "cell-d07188596a1bce12",
     "locked": true,
     "schema_version": 3,
     "solution": false,
     "task": false
    }
   },
   "outputs": [],
   "source": [
    "# ground truth (but in real life unknown) activity of the source, unit: [Bq]\n",
    "x_true = 10.0\n",
    "\n",
    "# define the total detection efficiencies of the three detectors\n",
    "# product of acquisition time and intrinsic detector efficiencies\n",
    "# unit: [s] - seconds\n",
    "\n",
    "detector_sensitivities = np.array([3.0, 1.0, 0.25])\n",
    "assert np.all(detector_sensitivities > 0), \"Detectors sensitivities must be strictly positive.\"\n",
    "\n",
    "# calculate the expected number of counts to be detected in every detector\n",
    "expected_counts = x_true * detector_sensitivities \n",
    "\n",
    "for i in range(3):\n",
    "    print(f\"expectated number of counts to be measured by detector {i+1}: {expected_counts[i]}\")"
   ]
  },
  {
   "cell_type": "markdown",
   "id": "d4a7181e-4e4c-48f6-aaa2-1f98db65e840",
   "metadata": {
    "deletable": false,
    "editable": false,
    "nbgrader": {
     "cell_type": "markdown",
     "checksum": "392c534c313f8638ae6e33f73756fadd",
     "grade": false,
     "grade_id": "cell-aa7d1ec0d61ba0f1",
     "locked": true,
     "schema_version": 3,
     "solution": false,
     "task": false
    }
   },
   "source": [
    "**Now we use a pseudo random generator to simulate the outcomes of 10 million experiments.**"
   ]
  },
  {
   "cell_type": "code",
   "execution_count": null,
   "id": "7766d54e-a851-48d9-9737-6e6d68c47ee7",
   "metadata": {
    "deletable": false,
    "editable": false,
    "nbgrader": {
     "cell_type": "code",
     "checksum": "2b26bb5d2595122003d411c0e103f8f5",
     "grade": false,
     "grade_id": "cell-1183f8f3eb05c7e9",
     "locked": true,
     "schema_version": 3,
     "solution": false,
     "task": false
    }
   },
   "outputs": [],
   "source": [
    "# generate many Poisson noise realizations of the measurement\n",
    "\n",
    "# seed the random generator to ensure reproducible results\n",
    "np.random.seed(1)\n",
    "\n",
    "# the number of experiments to simulate\n",
    "num_simulated_experiments = 10000000\n",
    "\n",
    "# simulated number of counts seen in all three detectors for 1000000 repeated experiments\n",
    "measured_counts1 = np.random.poisson(expected_counts[0], num_simulated_experiments)\n",
    "measured_counts2 = np.random.poisson(expected_counts[1], num_simulated_experiments)\n",
    "measured_counts3 = np.random.poisson(expected_counts[2], num_simulated_experiments)\n",
    "\n",
    "# print the measured counts of the first 3 and last 3 experiments\n",
    "for i in range(3):\n",
    "    print(f\"experiment {i:07}:   measured_counts1 = {measured_counts1[i]:02} counts,   measured_counts2 = {measured_counts2[i]:02} counts,   measured_counts3 = {measured_counts3[i]:02} counts\")\n",
    "print(\"...\")\n",
    "for i in range(num_simulated_experiments-2, num_simulated_experiments):\n",
    "    print(f\"experiment {i:07}:   measured_counts1 = {measured_counts1[i]:02} counts,   measured_counts2 = {measured_counts2[i]:02} counts,   measured_counts3 = {measured_counts3[i]:02} counts\")"
   ]
  },
  {
   "cell_type": "markdown",
   "id": "81a01719-ab16-42a2-bac1-719e2c27bf52",
   "metadata": {
    "deletable": false,
    "editable": false,
    "jp-MarkdownHeadingCollapsed": true,
    "nbgrader": {
     "cell_type": "markdown",
     "checksum": "750453b7553fcc05a84c73d7f4bbe326",
     "grade": false,
     "grade_id": "cell-0931d3538c46a4f9",
     "locked": true,
     "schema_version": 3,
     "solution": false,
     "task": false
    }
   },
   "source": [
    "## (Naive) estimators to calculate the (unkown) activity from a single experiment"
   ]
  },
  {
   "cell_type": "markdown",
   "id": "432f198f-99a0-43cc-beb9-af1a81784df7",
   "metadata": {
    "deletable": false,
    "editable": false,
    "nbgrader": {
     "cell_type": "markdown",
     "checksum": "c9fb575cda6675159db171da29e1712b",
     "grade": false,
     "grade_id": "cell-2e382586943f526d",
     "locked": true,
     "schema_version": 3,
     "solution": false,
     "task": false
    }
   },
   "source": [
    "---\n",
    "\n",
    "**To estimate the unknown activity of the source, one (naive) possibility is to use the only the measured counts by the detector 1 and to divide by the total sensitivity of detector 1**\n",
    "\n",
    "$$\\hat{x}_1 = \\frac{y_1}{a_1}$$\n",
    "\n",
    "**Another possibility is to use only the counts of measured by detector 2**\n",
    "\n",
    "$$\\hat{x}_2 = \\frac{y_1}{a_2}$$\n",
    "\n",
    "**or by detector 3**\n",
    "\n",
    "$$\\hat{x}_3 = \\frac{y_1}{a_3}$$\n",
    "\n",
    "---\n",
    "\n",
    "**We implement the general form of the \"single detector\" activity estimator**\n",
    "\n",
    "$$\\hat{x}_i = \\frac{y_i}{a_i} \\quad i \\in \\{1,2,3\\}$$\n",
    "\n",
    "**in the cell below**\n",
    "\n",
    "---"
   ]
  },
  {
   "cell_type": "code",
   "execution_count": null,
   "id": "5d4fad0a-ce0a-4419-9602-bbc3d923de44",
   "metadata": {
    "deletable": false,
    "editable": false,
    "nbgrader": {
     "cell_type": "code",
     "checksum": "4172d8ec953d034d82646ed22827e524",
     "grade": false,
     "grade_id": "cell-a5846d24603c3adb",
     "locked": true,
     "schema_version": 3,
     "solution": false,
     "task": false
    }
   },
   "outputs": [],
   "source": [
    "def activity_estimator_single_detector(y_i: float | np.ndarray, a_i: float) -> float:\n",
    "    \"\"\"activity estimator using the only the measured counts from detector 1\n",
    "\n",
    "    Parameters\n",
    "    ---------\n",
    "\n",
    "    y_i ... (float or numpy array)\n",
    "        measured counts by detector i\n",
    "    a_i ... (float)\n",
    "        detection sensitivities if detector i\n",
    "        product of acquisition time and intrinsic detection efficiency\n",
    "\n",
    "    Returns\n",
    "    -------\n",
    "\n",
    "    float\n",
    "    \n",
    "    The estimated activity of the source\n",
    "    \"\"\"\n",
    "    x_est = y_i/a_i\n",
    "\n",
    "    return x_est"
   ]
  },
  {
   "cell_type": "markdown",
   "id": "49aafce0-2134-491e-b2ff-bfe3fb8abb64",
   "metadata": {
    "deletable": false,
    "editable": false,
    "nbgrader": {
     "cell_type": "markdown",
     "checksum": "3358acf748a6bb7b8c759e94fc2e537b",
     "grade": false,
     "grade_id": "cell-d0b956bdcf6b6aa0",
     "locked": true,
     "schema_version": 3,
     "solution": false,
     "task": false
    }
   },
   "source": [
    "---\n",
    "\n",
    "**Another (also naive) way of estimating the source activity, is to average the three naive estimator from above**\n",
    "\n",
    "$$\\hat{x}_\\text{avg} = \\frac{1}{3}(\\hat{x}_1 + \\hat{x}_2 + \\hat{x}_3)$$\n",
    "\n",
    "We implement this (naive) estimator in the following function\n",
    "\n",
    "---"
   ]
  },
  {
   "cell_type": "code",
   "execution_count": null,
   "id": "80bdc6b6-31ad-4778-b196-149f1295dc25",
   "metadata": {
    "deletable": false,
    "editable": false,
    "nbgrader": {
     "cell_type": "code",
     "checksum": "74fd516a544bd27cde75335b41e28214",
     "grade": false,
     "grade_id": "cell-5389b09946f66adb",
     "locked": true,
     "schema_version": 3,
     "solution": false,
     "task": false
    }
   },
   "outputs": [],
   "source": [
    "def activity_estimator_single_detector_average(y_1: float, y_2: float, y_3: float, a_1: float, a_2: float, a_3: float) -> float:\n",
    "    \"\"\"estimator for the source activity using the average of the three individual estimators\n",
    "\n",
    "    Parameters\n",
    "    ---------\n",
    "\n",
    "    y_1, y_2, y_3 ... (float)\n",
    "        measured counts by detector 1, 2, and 3\n",
    "    a_1, a_2, a_3 ... (float)\n",
    "        detection sensitivities if detector 1, 2, and 3\n",
    "        product of acquisition time and intrinsic detection efficiency\n",
    "\n",
    "    Returns\n",
    "    -------\n",
    "\n",
    "    float\n",
    "    \n",
    "    The estimated activity of the source\n",
    "    \"\"\"\n",
    "    x_est = (activity_estimator_single_detector(y_1, a_1) + \n",
    "             activity_estimator_single_detector(y_2, a_2) + \n",
    "             activity_estimator_single_detector(y_3, a_3)) / 3 \n",
    "\n",
    "    return x_est"
   ]
  },
  {
   "cell_type": "markdown",
   "id": "7649b8bf-97ff-42fa-aea6-8d6ddf41483e",
   "metadata": {
    "deletable": false,
    "editable": false,
    "nbgrader": {
     "cell_type": "markdown",
     "checksum": "fd5dae1d4acfa106eb522847d0ac1d50",
     "grade": false,
     "grade_id": "cell-5f19e9aebf05f12a",
     "locked": true,
     "schema_version": 3,
     "solution": false,
     "task": false
    }
   },
   "source": [
    "---\n",
    "\n",
    "**Let's calculate the single detector estimator, as well as the single detector average estimator for all detectors for all our simulated experiments**\n",
    "\n",
    "---"
   ]
  },
  {
   "cell_type": "code",
   "execution_count": null,
   "id": "620aeed6-7a5f-4ffc-8255-a6791350b8c1",
   "metadata": {
    "deletable": false,
    "editable": false,
    "nbgrader": {
     "cell_type": "code",
     "checksum": "e9e450b72485a60a3a2405414f6cf39a",
     "grade": false,
     "grade_id": "cell-aa01d0c664a5ed50",
     "locked": true,
     "schema_version": 3,
     "solution": false,
     "task": false
    }
   },
   "outputs": [],
   "source": [
    "x_est_det1_only = activity_estimator_single_detector(measured_counts1, detector_sensitivities[0])\n",
    "x_est_det2_only = activity_estimator_single_detector(measured_counts2, detector_sensitivities[1])\n",
    "x_est_det3_only = activity_estimator_single_detector(measured_counts3, detector_sensitivities[2])\n",
    "\n",
    "x_est_single_det_avg = activity_estimator_single_detector_average(measured_counts1, measured_counts2, measured_counts3, detector_sensitivities[0], detector_sensitivities[1], detector_sensitivities[2])"
   ]
  },
  {
   "cell_type": "markdown",
   "id": "4a531ad9-e3bb-4156-b17e-f5c4f91d4ae7",
   "metadata": {
    "deletable": false,
    "editable": false,
    "nbgrader": {
     "cell_type": "markdown",
     "checksum": "167d5ac3754bd3f42aef53b08c319daf",
     "grade": false,
     "grade_id": "cell-cb8feb3b41caa216",
     "locked": true,
     "schema_version": 3,
     "solution": false,
     "task": false
    }
   },
   "source": [
    "---\n",
    "\n",
    "**Let's print the results of the four naive estimators for the first 3 and last two simulated experiments**\n",
    "\n",
    "---"
   ]
  },
  {
   "cell_type": "code",
   "execution_count": null,
   "id": "5b5a2a8d-65e8-4092-92ae-0530f4c58139",
   "metadata": {
    "deletable": false,
    "editable": false,
    "nbgrader": {
     "cell_type": "code",
     "checksum": "5209d8cd0a2a07e3b9a836769d091d60",
     "grade": false,
     "grade_id": "cell-e00b26b121067953",
     "locked": true,
     "schema_version": 3,
     "solution": false,
     "task": false
    }
   },
   "outputs": [],
   "source": [
    "# print the numerical values of this estimator for the first 3 and last 2 simulated experiments\n",
    "print(f\"{' '*20} det1_only est 1 | det2_only est 2 | det3_only est 3 | avg est\")\n",
    "print(\"-\"*82)\n",
    "for i in range(3):\n",
    "    print(f\"experiment {i:07}:   {x_est_det1_only[i]:5.2f}{' '*11}| {x_est_det2_only[i]:5.2f}{' '*11}| {x_est_det3_only[i]:5.2f}{' '*11}| {x_est_single_det_avg[i]:5.2f}\")\n",
    "print(\"...\")\n",
    "for i in range(num_simulated_experiments-2, num_simulated_experiments):\n",
    "    print(f\"experiment {i:07}:   {x_est_det1_only[i]:5.2f}{' '*11}| {x_est_det2_only[i]:5.2f}{' '*11}| {x_est_det3_only[i]:5.2f}{' '*11}| {x_est_single_det_avg[i]:5.2f}\")\n"
   ]
  },
  {
   "cell_type": "markdown",
   "id": "22c55508-061f-4c8d-a6ce-0aecda1e497a",
   "metadata": {
    "deletable": false,
    "editable": false,
    "nbgrader": {
     "cell_type": "markdown",
     "checksum": "76c4e5bb1078e6a49fc77b29f5ff87d5",
     "grade": false,
     "grade_id": "cell-f41fe7bf154088b8",
     "locked": true,
     "schema_version": 3,
     "solution": false,
     "task": false
    }
   },
   "source": [
    "---\n",
    "\n",
    "**Based on the all simulated experiments, we can numerically calcuate the expectation and the variance of our 4 naive estimators**\n",
    "\n",
    "---"
   ]
  },
  {
   "cell_type": "code",
   "execution_count": null,
   "id": "2c59898a-cca9-4991-b4fd-cd42ee937984",
   "metadata": {
    "deletable": false,
    "editable": false,
    "nbgrader": {
     "cell_type": "code",
     "checksum": "01a112132a7bbb7e7c3430d76d6d63c5",
     "grade": false,
     "grade_id": "cell-5d1cac08c864f611",
     "locked": true,
     "schema_version": 3,
     "solution": false,
     "task": false
    }
   },
   "outputs": [],
   "source": [
    "# calculate the mean our naive estimators\n",
    "x_est_det1_only_numeric_expectation = x_est_det1_only.mean()\n",
    "x_est_det2_only_numeric_expectation = x_est_det2_only.mean()\n",
    "x_est_det3_only_numeric_expectation = x_est_det3_only.mean()\n",
    "x_est_single_det_avg_numeric_expectation = x_est_single_det_avg.mean()\n",
    "\n",
    "# calculate the sample variance (need ddof=1) our naive estimators\n",
    "x_est_det1_only_numeric_var= x_est_det1_only.var(ddof=1)\n",
    "x_est_det2_only_numeric_var= x_est_det2_only.var(ddof=1)\n",
    "x_est_det3_only_numeric_var= x_est_det3_only.var(ddof=1)\n",
    "x_est_single_det_avg_numeric_var= x_est_single_det_avg.var(ddof=1)\n",
    "\n",
    "# display the numerically compuated values for the means and variances of the estimator\n",
    "print(f\"{' '*20} det1_only est 1 | det2_only est 2 | det3_only est 3 | avg est\")\n",
    "print(\"-\"*82)\n",
    "print(f\"estimator exp.  .:   {x_est_det1_only_numeric_expectation:5.2f}{' '*11}| {x_est_det2_only_numeric_expectation:5.2f}{' '*11}| {x_est_det3_only_numeric_expectation:5.2f}{' '*11}| {x_est_single_det_avg_numeric_expectation:5.2f}\")\n",
    "print(f\"estimator var.  .:   {x_est_det1_only_numeric_var:5.2f}{' '*11}| {x_est_det2_only_numeric_var:5.2f}{' '*11}| {x_est_det3_only_numeric_var:5.2f}{' '*11}| {x_est_single_det_avg_numeric_var:5.2f}\")"
   ]
  },
  {
   "cell_type": "markdown",
   "id": "6d56c5d6-b4e2-4499-ba34-93a682356e1d",
   "metadata": {
    "deletable": false,
    "editable": false,
    "nbgrader": {
     "cell_type": "markdown",
     "checksum": "0070388af374ee5148cebfa2e25d03f6",
     "grade": false,
     "grade_id": "cell-ef6c6ee7740da211",
     "locked": true,
     "schema_version": 3,
     "solution": false,
     "task": false
    }
   },
   "source": [
    "---\n",
    "\n",
    "**Let's visualize the distribution of the computed values of the 4 naive estimators across all experiments**\n",
    "\n",
    "---"
   ]
  },
  {
   "cell_type": "code",
   "execution_count": null,
   "id": "a1df14f4-28b9-4837-b41e-99cfcdbbcfd5",
   "metadata": {
    "deletable": false,
    "editable": false,
    "nbgrader": {
     "cell_type": "code",
     "checksum": "a35f412ce1fad4b68a73d418781fb0cd",
     "grade": false,
     "grade_id": "cell-78443f7dc7d1bfae",
     "locked": true,
     "schema_version": 3,
     "solution": false,
     "task": false
    }
   },
   "outputs": [],
   "source": [
    "fig, ax = plt.subplots(1,1, figsize = (9,4), tight_layout = True)\n",
    "boxplot1 = ax.boxplot([x_est_det1_only,x_est_det2_only,x_est_det3_only,x_est_single_det_avg], \n",
    "                      labels = [f\"single_det_1 ({x_est_det1_only_numeric_expectation:.1f}, {x_est_det1_only_numeric_var:.1f})\", \n",
    "                                f\"single_det_2 ({x_est_det2_only_numeric_expectation:.1f}, {x_est_det2_only_numeric_var:.1f})\", \n",
    "                                f\"single_det_3 ({x_est_det3_only_numeric_expectation:.1f}, {x_est_det3_only_numeric_var:.1f})\", \n",
    "                                f\"single_det_avg ({x_est_single_det_avg_numeric_expectation:.1f}, {x_est_single_det_avg_numeric_var:.1f})\"],\n",
    "                      showmeans = True,\n",
    "                     flierprops = {\"markersize\":1})\n",
    "ax.grid(ls = \":\")\n",
    "ax.set_xlabel(\"estimator type (expectation, variance)\")\n",
    "ax.set_ylabel(\"estimated source activity [Bq]\")"
   ]
  },
  {
   "cell_type": "markdown",
   "id": "5efef13f-fc89-4d66-a225-0aaa69743947",
   "metadata": {
    "deletable": false,
    "editable": false,
    "nbgrader": {
     "cell_type": "markdown",
     "checksum": "2a26396f857639d68a97d5de7a7f98de",
     "grade": false,
     "grade_id": "cell-35d26fa099927e5f",
     "locked": true,
     "schema_version": 3,
     "solution": false,
     "task": false
    }
   },
   "source": [
    "---\n",
    "\n",
    "**Observations:** \n",
    "1. We can see that **all** single detector **estimators** as well as the average single detector estimator have **the same mean value** (in other words, on average give the same results).\n",
    "2. **However,** there are **strong differences in the variances** of these estimators.\n",
    "3. The variance of the single detector estimator from detector 1 has lowest variance - even lower than the average single detector estimator.\n",
    "   \n",
    "\n",
    "---"
   ]
  },
  {
   "cell_type": "markdown",
   "id": "8aee6bb4-5541-4038-9e34-6f3262f08b52",
   "metadata": {
    "deletable": false,
    "editable": false,
    "nbgrader": {
     "cell_type": "markdown",
     "checksum": "685d8236f2181a64291fe7b1709f036b",
     "grade": false,
     "grade_id": "cell-9d273cf9cdfaa6fa",
     "locked": true,
     "schema_version": 3,
     "solution": false,
     "task": false
    }
   },
   "source": [
    "## Analytic expressions for expectation and variance of the single detector estimator\n",
    "\n",
    "Using basic arithmetic rules for the expectation and the variance, it is possible to show that the expectation of the single detector estimator is given by\n",
    "\n",
    "$$\n",
    "E[\\hat{x}_i] = E[\\frac{y_i}{a_i}] = \\frac{1}{a_i}E[y_i] = \\frac{1}{a_i} a_i x = x \\ .\n",
    "$$\n",
    "\n",
    "The variance is given by\n",
    "\n",
    "$$\n",
    "Var[\\hat{x}_i] = Var[\\frac{y_i}{a_i}] = \\frac{1}{a_i^2}Var[y_i] = \\frac{1}{a_i^2}E[y_i] = \\frac{x}{a_i} \\ .\n",
    "$$\n",
    "\n",
    "We implement both analytic expressions in the cell below."
   ]
  },
  {
   "cell_type": "code",
   "execution_count": null,
   "id": "c5990aed-09c4-45ee-b3d5-b752eb452363",
   "metadata": {
    "deletable": false,
    "editable": false,
    "nbgrader": {
     "cell_type": "code",
     "checksum": "d46b8f85561f560a433a376c6dd6b6b0",
     "grade": false,
     "grade_id": "cell-fc5f53190adc3e10",
     "locked": true,
     "schema_version": 3,
     "solution": false,
     "task": false
    }
   },
   "outputs": [],
   "source": [
    "def analytic_expectation_single_detector(x: float, a_i) -> float:\n",
    "    \"\"\"analytic value for the expectation of the single detector activity estimator $\\\\hat{x}_i$\n",
    "\n",
    "    Parameters\n",
    "    ---------\n",
    "\n",
    "    x ... (float)\n",
    "        the (unknown) true activity of the source\n",
    "    a_i ... (float)\n",
    "        detection sensitivities if detector i\n",
    "        product of acquisition time and intrinsic detection efficiency\n",
    "\n",
    "    Returns\n",
    "    -------\n",
    "\n",
    "    float\n",
    "    \n",
    "    The expectation of the estimator\n",
    "    \"\"\"\n",
    "\n",
    "    return x\n",
    "\n",
    "def analytic_variance_single_detector(x: float, a_i) -> float:\n",
    "    \"\"\"analytic value for the variance of the single detector activity estimator $\\\\hat{x}_i$\n",
    "\n",
    "    Parameters\n",
    "    ---------\n",
    "\n",
    "    x ... (float)\n",
    "        the (unknown) true activity of the source\n",
    "    a_i ... (float)\n",
    "        detection sensitivities if detector i\n",
    "        product of acquisition time and intrinsic detection efficiency\n",
    "\n",
    "    Returns\n",
    "    -------\n",
    "\n",
    "    float\n",
    "    \n",
    "    The expectation of the estimator\n",
    "    \"\"\"\n",
    "\n",
    "    return x/a_i\n"
   ]
  },
  {
   "cell_type": "markdown",
   "id": "8b5e078f-2d49-468d-9c3a-ac2cf5989da3",
   "metadata": {
    "deletable": false,
    "editable": false,
    "nbgrader": {
     "cell_type": "markdown",
     "checksum": "6335e36326c0f8b36dc7d2b7f782eff3",
     "grade": false,
     "grade_id": "cell-ebbefac321696962",
     "locked": true,
     "schema_version": 3,
     "solution": false,
     "task": false
    }
   },
   "source": [
    "---\n",
    "\n",
    "**Let's calculate the analytic expressions of the single detector estimator expectation and variance.**\n",
    "\n",
    "---"
   ]
  },
  {
   "cell_type": "code",
   "execution_count": null,
   "id": "ee69d08b-c36a-417b-88c6-6222f2c2a59d",
   "metadata": {
    "deletable": false,
    "editable": false,
    "nbgrader": {
     "cell_type": "code",
     "checksum": "270ca84a2f0299b311760ae0f3b8f5a6",
     "grade": false,
     "grade_id": "cell-1109a341970e9843",
     "locked": true,
     "schema_version": 3,
     "solution": false,
     "task": false
    }
   },
   "outputs": [],
   "source": [
    "for i in range(3):\n",
    "    print(f\"analytic expectation single detector estimator {i}: {analytic_expectation_single_detector(x_true, detector_sensitivities[i])}\")\n",
    "\n",
    "print()\n",
    "\n",
    "for i in range(3):\n",
    "    print(f\"analytic variance    single detector estimator {i}: {analytic_variance_single_detector(x_true, detector_sensitivities[i])}\")\n"
   ]
  },
  {
   "cell_type": "markdown",
   "id": "90734b6f-e71f-41e0-baa2-dcd5ce0b7047",
   "metadata": {
    "deletable": false,
    "editable": false,
    "nbgrader": {
     "cell_type": "markdown",
     "checksum": "4b6bcae7810d65345bd7d7ef5aa7acc0",
     "grade": false,
     "grade_id": "cell-2eaf04b2ef55e19a",
     "locked": true,
     "schema_version": 3,
     "solution": false,
     "task": false
    }
   },
   "source": [
    "**Observation**: We see that the **analytic values** for expectation and variance of the single detector estimator **closely match the numerical values** calculated above."
   ]
  },
  {
   "cell_type": "markdown",
   "id": "3e444b16-408f-4f04-af96-8c216d92f76d",
   "metadata": {
    "deletable": false,
    "editable": false,
    "nbgrader": {
     "cell_type": "markdown",
     "checksum": "461046f4bc449bc4978ffe3b9837f386",
     "grade": false,
     "grade_id": "cell-2848593aac445e65",
     "locked": true,
     "schema_version": 3,
     "solution": false,
     "task": false
    }
   },
   "source": [
    "---\n",
    "---\n",
    "---\n",
    "\n",
    "## Task 1.1\n",
    "\n",
    "**Calculate and implement the analytic expressions for the expectation and variance of the single detector average estimator given by**\n",
    "\n",
    "$$\n",
    "\\hat{x}_\\text{avg} = \\frac{1}{3}(\\frac{y_1}{a_1} + \\frac{y_2}{a_2} + \\frac{y_3}{a_3})\n",
    "$$\n",
    "\n",
    "**in the cells below.**\n",
    "\n",
    "---\n",
    "---\n",
    "---"
   ]
  },
  {
   "cell_type": "code",
   "execution_count": null,
   "id": "f14d967b-2ae7-4fa9-b99d-ed692043d0e2",
   "metadata": {
    "deletable": false,
    "nbgrader": {
     "cell_type": "code",
     "checksum": "98782a5d706afecdc5cb6b7c4eda8e93",
     "grade": false,
     "grade_id": "cell-ab1d4d3c0b6356d2",
     "locked": false,
     "schema_version": 3,
     "solution": true,
     "task": false
    }
   },
   "outputs": [],
   "source": [
    "def analytic_expectation_single_detector_average(x: float, a_1: float, a_2: float, a_3: float) -> float:\n",
    "    \"\"\"analytic value for the expectation of the activity estimator $\\\\hat{x}_\\\\text{avg}$\n",
    "\n",
    "    Parameters\n",
    "    ---------\n",
    "\n",
    "    x ... (float)\n",
    "        the (unknown) true activity of the source\n",
    "    a_1, a_2, a_3 ... (float)\n",
    "        detection sensitivities if detector 1, 2, and 3\n",
    "        product of acquisition time and intrinsic detection efficiency\n",
    "\n",
    "    Returns\n",
    "    -------\n",
    "\n",
    "    float\n",
    "    \n",
    "    The expectation of the estimator\n",
    "    \"\"\"\n",
    "\n",
    "    ########## YOUR CODE STARTS HERE #################################################\n",
    "    # implement the expectation of the estimator as a general function (x, a_1, a_2, a_3)\n",
    "    # return the correct expression as output of this function\n",
    "    \n",
    "    # YOUR CODE HERE\n",
    "    raise NotImplementedError()\n",
    "    ########## YOUR CODE ENDS HERE ###################################################"
   ]
  },
  {
   "cell_type": "code",
   "execution_count": null,
   "id": "036398a4-cd03-4850-b6d0-2c9dd8c5aa98",
   "metadata": {
    "deletable": false,
    "editable": false,
    "nbgrader": {
     "cell_type": "code",
     "checksum": "8266b6310b333475d23b4012ae525511",
     "grade": false,
     "grade_id": "cell-3b26bbdfb103546f",
     "locked": true,
     "schema_version": 3,
     "solution": false,
     "task": false
    }
   },
   "outputs": [],
   "source": [
    "# print the analytic value of the expectation for the parameter of our numerical experiments\n",
    "\n",
    "print(f\"analytic expectation of the single detector average estimator for x={x_true:.2f}, a_1 = {detector_sensitivities[0]:.2f}, a_2 = {detector_sensitivities[1]:.2f}, a_3 = {detector_sensitivities[2]:.2f}\")\n",
    "print(analytic_expectation_single_detector_average(x_true, detector_sensitivities[0], detector_sensitivities[1], detector_sensitivities[2]))"
   ]
  },
  {
   "cell_type": "code",
   "execution_count": null,
   "id": "0f1b2be0-0682-4b70-b6fc-4f8062283dc0",
   "metadata": {
    "deletable": false,
    "editable": false,
    "nbgrader": {
     "cell_type": "code",
     "checksum": "f41940fa99a2e8d5f5a0c0847b93c41b",
     "grade": true,
     "grade_id": "cell-6478e1de615b53c2",
     "locked": true,
     "points": 1,
     "schema_version": 3,
     "solution": false,
     "task": false
    }
   },
   "outputs": [],
   "source": [
    "# SKIP THIS BLANK CELL FOR AUTOGRADING"
   ]
  },
  {
   "cell_type": "code",
   "execution_count": null,
   "id": "6b4b0538-7436-4041-bb2f-7a1cfd57f944",
   "metadata": {
    "deletable": false,
    "nbgrader": {
     "cell_type": "code",
     "checksum": "82205220891ac9aaabe0e7da2773c71b",
     "grade": false,
     "grade_id": "cell-efd0a5461cbabdde",
     "locked": false,
     "schema_version": 3,
     "solution": true,
     "task": false
    }
   },
   "outputs": [],
   "source": [
    "def analytic_variance_single_detector_average(x: float, a_1: float, a_2: float, a_3: float) -> float:\n",
    "    \"\"\"analytic value for the variance of activity_estimator_avg\n",
    "\n",
    "    Parameters\n",
    "    ---------\n",
    "\n",
    "    x ... (float)\n",
    "        the (unknown) true activity of the source\n",
    "    a_1, a_2, a_3 ... (float)\n",
    "        detection sensitivities if detector 1, 2, and 3\n",
    "        product of acquisition time and intrinsic detection efficiency\n",
    "\n",
    "    Returns\n",
    "    -------\n",
    "\n",
    "    float\n",
    "    \n",
    "    The variance of the estimator\n",
    "    \"\"\"\n",
    "\n",
    "    ########## YOUR CODE STARTS HERE #################################################\n",
    "    # implement the variance of the estimator as a general function (x, a_1, a_2, a_3)\n",
    "    # return the correct expression as output of this function\n",
    "    \n",
    "    # YOUR CODE HERE\n",
    "    raise NotImplementedError()\n",
    "    ########## YOUR CODE ENDS HERE ###################################################"
   ]
  },
  {
   "cell_type": "code",
   "execution_count": null,
   "id": "41aafccc-62dd-4e91-9931-a10153208b1f",
   "metadata": {
    "deletable": false,
    "editable": false,
    "nbgrader": {
     "cell_type": "code",
     "checksum": "9a13beee7f3ebf3d65204a468a72f2d4",
     "grade": false,
     "grade_id": "cell-a0669d7cdf950ac0",
     "locked": true,
     "schema_version": 3,
     "solution": false,
     "task": false
    }
   },
   "outputs": [],
   "source": [
    "# print the analytic value of the variance for the parameter of our numerical experiments\n",
    "\n",
    "print(f\"analytic variance of single detector average estimator for x={x_true:.2f}, a_1 = {detector_sensitivities[0]:.2f}, a_2 = {detector_sensitivities[1]:.2f}, a_3 = {detector_sensitivities[2]:.2f}\")\n",
    "print(analytic_variance_single_detector_average(x_true, detector_sensitivities[0], detector_sensitivities[1], detector_sensitivities[2]))\n"
   ]
  },
  {
   "cell_type": "code",
   "execution_count": null,
   "id": "96f40dc0-b0bf-48e2-8dde-a172fb38fe95",
   "metadata": {
    "deletable": false,
    "editable": false,
    "nbgrader": {
     "cell_type": "code",
     "checksum": "21d64b3d691b4db5a752d947c9c853ab",
     "grade": true,
     "grade_id": "cell-668cac1986acc8f5",
     "locked": true,
     "points": 1,
     "schema_version": 3,
     "solution": false,
     "task": false
    }
   },
   "outputs": [],
   "source": [
    "# SKIP THIS BLANK CELL FOR AUTOGRADING"
   ]
  },
  {
   "cell_type": "markdown",
   "id": "bbed5bcb-9085-4d01-b8f4-d12d6be66e4e",
   "metadata": {
    "deletable": false,
    "editable": false,
    "nbgrader": {
     "cell_type": "markdown",
     "checksum": "08ff0a05f92360f774b55d875d47fa8e",
     "grade": false,
     "grade_id": "cell-6abb4879433abaf6",
     "locked": true,
     "schema_version": 3,
     "solution": false,
     "task": false
    }
   },
   "source": [
    "## Task 1.2\n",
    "\n",
    "---\n",
    "---\n",
    "---\n",
    "\n",
    "What do you observe for the numerical and analytic expectation and variance of $\\hat{x}_\\text{avg}$?\n",
    "\n",
    "**Question 1.2.a**: Is this estimator biased or unbiased (in other words, does the expectation match the true unknown value)?\n",
    "\n",
    "**Question 1.2.b**: How does the variance of $\\hat{x}_\\text{avg}$ compare to the single detector estimator $\\hat{x}_1$, $\\hat{x}_2$, and $\\hat{x}_3$? And why?\n",
    "\n",
    "**Add your answers to questions 1 and 2 in the markdown cells below**\n",
    "\n",
    "---\n",
    "---\n",
    "---"
   ]
  },
  {
   "cell_type": "markdown",
   "id": "9a3c5cad-7100-4fcb-a82c-c0f225d505f5",
   "metadata": {
    "deletable": false,
    "nbgrader": {
     "cell_type": "markdown",
     "checksum": "9201281e349af7439373649ace4c11d7",
     "grade": true,
     "grade_id": "cell-eff6960cc65123e6",
     "locked": false,
     "points": 1,
     "schema_version": 3,
     "solution": true,
     "task": false
    }
   },
   "source": [
    "YOUR ANSWER HERE"
   ]
  },
  {
   "cell_type": "markdown",
   "id": "7784aeb2-cc8d-4598-8cca-33e8e0fb3d3c",
   "metadata": {
    "deletable": false,
    "nbgrader": {
     "cell_type": "markdown",
     "checksum": "060fcab3a9dae837ab157f0237eb037b",
     "grade": true,
     "grade_id": "cell-6592e841d4711eac",
     "locked": false,
     "points": 1,
     "schema_version": 3,
     "solution": true,
     "task": false
    }
   },
   "source": [
    "YOUR ANSWER HERE"
   ]
  },
  {
   "cell_type": "markdown",
   "id": "2cf5c463-8269-4b44-8d7c-2458874b9628",
   "metadata": {
    "deletable": false,
    "editable": false,
    "nbgrader": {
     "cell_type": "markdown",
     "checksum": "6a39bcac64d10d9136b98dfee4bd1259",
     "grade": false,
     "grade_id": "cell-d5e74e6cd13a5f5c",
     "locked": true,
     "schema_version": 3,
     "solution": false,
     "task": false
    }
   },
   "source": [
    "## Task 2\n",
    "\n",
    "A (potentially) better estimator for the (unknown) activity of the source is the **Poisson Maximum likelihood estimator** given by value\n",
    "$$\n",
    "\\DeclareMathOperator*{\\argmax}{argmax}\n",
    "\\hat{x}_\\text{ML,Poisson} = \\argmax_x \\sum_{i=1}^3 y_i \\ln(\\bar{y}_i(x)) - \\bar{y}_i(x)\n",
    "$$\n",
    "\n",
    "**Implement the Poisson Maximum likelihood estimator for the activity of the source based on the counts of all 3 detectors by completing the function defined in the cell below.**\n",
    "\n",
    "**The input to this function are the measured counts (random variables) and the sensitivities of all three detectors.**"
   ]
  },
  {
   "cell_type": "code",
   "execution_count": null,
   "id": "ec357c4b-ae84-4b24-a42b-0aa604c6c7eb",
   "metadata": {
    "deletable": false,
    "nbgrader": {
     "cell_type": "code",
     "checksum": "962ad9e17eff213d3648abd269253520",
     "grade": false,
     "grade_id": "cell-29490fa5562c222a",
     "locked": false,
     "schema_version": 3,
     "solution": true,
     "task": false
    }
   },
   "outputs": [],
   "source": [
    "def activity_estimator_ml_poisson_function(y_1: float, y_2: float, y_3: float, a_1: float, a_2: float, a_3: float) -> float:\n",
    "    \"\"\"Poisson maximum likelihood estimator for the source activity using the counts measured by all detectors\n",
    "\n",
    "    Parameters\n",
    "    ---------\n",
    "\n",
    "    y_1, y_2, y_3 ... (float)\n",
    "        measured counts by detector 1, 2, and 3\n",
    "    a_1, a_2, a_3 ... (float)\n",
    "        detection sensitivities if detector 1, 2, and 3\n",
    "        product of acquisition time and intrinsic detection efficiency\n",
    "\n",
    "    Returns\n",
    "    -------\n",
    "\n",
    "    float\n",
    "    \n",
    "    The estimated activity of the source\n",
    "    \"\"\"\n",
    "    \n",
    "    # YOUR CODE HERE\n",
    "    raise NotImplementedError()"
   ]
  },
  {
   "cell_type": "code",
   "execution_count": null,
   "id": "0499da38-9c3e-42ff-a04d-6eae6d31ea5e",
   "metadata": {
    "deletable": false,
    "editable": false,
    "nbgrader": {
     "cell_type": "code",
     "checksum": "7e93a497db06af4dcfbbc3f0be147d91",
     "grade": true,
     "grade_id": "cell-f419e2f9fffbb244",
     "locked": true,
     "points": 1,
     "schema_version": 3,
     "solution": false,
     "task": false
    }
   },
   "outputs": [],
   "source": [
    "# SKIP THIS BLANK CELL FOR AUTOGRADING"
   ]
  },
  {
   "cell_type": "code",
   "execution_count": null,
   "id": "99eadb0e-612e-4c17-b85d-8de0e1b9b903",
   "metadata": {
    "deletable": false,
    "editable": false,
    "nbgrader": {
     "cell_type": "code",
     "checksum": "3725c62652c6baa195c31601c3595e95",
     "grade": false,
     "grade_id": "cell-48185f89c334f167",
     "locked": true,
     "schema_version": 3,
     "solution": false,
     "task": false
    }
   },
   "outputs": [],
   "source": [
    "# apply the ML Poisson estimator to all simulated experiments\n",
    "x_est_ml_poisson = activity_estimator_ml_poisson_function(measured_counts1, measured_counts2, measured_counts3, detector_sensitivities[0], detector_sensitivities[1], detector_sensitivities[2])\n",
    "print(x_est_ml_poisson)\n",
    "\n",
    "# numerically estimate the expectation and variance of the ML Poisson estimator\n",
    "x_est_ml_poisson_numeric_expectation = x_est_ml_poisson.mean()\n",
    "print(f\"numeric value for expectation of ML Poisson estimator: {x_est_ml_poisson_numeric_expectation:.2f}\")\n",
    "\n",
    "x_est_ml_poisson_numeric_var = x_est_ml_poisson.var(ddof=1)\n",
    "print(f\"numeric value for var of ML Poisson estimator: {x_est_ml_poisson_numeric_var:.2f}\")"
   ]
  },
  {
   "cell_type": "markdown",
   "id": "d7474162-f279-499b-b90d-48528a8a4bdd",
   "metadata": {
    "deletable": false,
    "editable": false,
    "nbgrader": {
     "cell_type": "markdown",
     "checksum": "e43888699e1c6950fb428b813d6b3acc",
     "grade": false,
     "grade_id": "cell-c7d46a761a575220",
     "locked": true,
     "schema_version": 3,
     "solution": false,
     "task": false
    }
   },
   "source": [
    "## Task 3\n",
    "\n",
    "Another (potentially) better estimator for the (unknown) activity of the source is the **least squares** given by value\n",
    "$$\n",
    "\\DeclareMathOperator*{\\argmax}{argmax}\n",
    "\\hat{x}_\\text{least squares} = \\argmax_x \\sum_{i=1}^3 (y_i - \\bar{y}_i(x))^2\n",
    "$$\n",
    "\n",
    "**Implement the least squares estimator for the activity of the source based on the counts of all 3 detectors by completing the function defined in the cell below.**\n",
    "\n",
    "**The input to this function are the measured counts (random variables) and the sensitivities of all three detectors.**"
   ]
  },
  {
   "cell_type": "code",
   "execution_count": null,
   "id": "8ca54a7d-e3d2-490c-bcc1-2f07ac6a6201",
   "metadata": {
    "deletable": false,
    "nbgrader": {
     "cell_type": "code",
     "checksum": "d4655cb377acfe437f8977c6b08e7c4c",
     "grade": false,
     "grade_id": "cell-a1987585355e30d5",
     "locked": false,
     "schema_version": 3,
     "solution": true,
     "task": false
    }
   },
   "outputs": [],
   "source": [
    "def activity_estimator_least_squares_function(y_1: float, y_2: float, y_3: float, a_1: float, a_2: float, a_3: float) -> float:\n",
    "    \"\"\"Poisson maximum likelihood estimator for the source activity using the counts measured by all detectors\n",
    "\n",
    "    Parameters\n",
    "    ---------\n",
    "\n",
    "    y_1, y_2, y_3 ... (float)\n",
    "        measured counts by detector 1, 2, and 3\n",
    "    a_1, a_2, a_3 ... (float)\n",
    "        detection sensitivities if detector 1, 2, and 3\n",
    "        product of acquisition time and intrinsic detection efficiency\n",
    "\n",
    "    Returns\n",
    "    -------\n",
    "\n",
    "    float\n",
    "    \n",
    "    The estimated activity of the source\n",
    "    \"\"\"\n",
    "    \n",
    "    # YOUR CODE HERE\n",
    "    raise NotImplementedError()"
   ]
  },
  {
   "cell_type": "code",
   "execution_count": null,
   "id": "2b4b80a9-fcef-4653-96df-a06e32d7698c",
   "metadata": {
    "deletable": false,
    "editable": false,
    "nbgrader": {
     "cell_type": "code",
     "checksum": "c993cdd3b4be3a1ee11eb00bc5149abc",
     "grade": true,
     "grade_id": "cell-4ec1eeb31dee7af5",
     "locked": true,
     "points": 1,
     "schema_version": 3,
     "solution": false,
     "task": false
    }
   },
   "outputs": [],
   "source": [
    "# SKIP THIS BLANK CELL FOR AUTOGRADING"
   ]
  },
  {
   "cell_type": "code",
   "execution_count": null,
   "id": "977402f2-26b5-4f96-9303-c85c709bdd53",
   "metadata": {
    "deletable": false,
    "editable": false,
    "nbgrader": {
     "cell_type": "code",
     "checksum": "223a88430b476009032142c6c0307d20",
     "grade": false,
     "grade_id": "cell-541bcc5bf27f8237",
     "locked": true,
     "schema_version": 3,
     "solution": false,
     "task": false
    }
   },
   "outputs": [],
   "source": [
    "# apply the ML Poisson estimator to all simulated experiments\n",
    "x_est_least_squares = activity_estimator_least_squares_function(measured_counts1, measured_counts2, measured_counts3, detector_sensitivities[0], detector_sensitivities[1], detector_sensitivities[2])\n",
    "print(x_est_least_squares)\n",
    "\n",
    "# numerically estimate the expectation and variance of the ML Poisson estimator\n",
    "x_est_least_squares_numeric_expectation = x_est_least_squares.mean()\n",
    "print(f\"numeric value for expectation of least squares estimator: {x_est_least_squares_numeric_expectation:.2f}\")\n",
    "\n",
    "x_est_least_squares_numeric_var = x_est_least_squares.var(ddof=1)\n",
    "print(f\"numeric value for variance of least squares estimator: {x_est_least_squares_numeric_var:.2f}\")"
   ]
  },
  {
   "cell_type": "markdown",
   "id": "f628d8eb-25c3-4fef-8fed-3d4583917831",
   "metadata": {
    "deletable": false,
    "editable": false,
    "nbgrader": {
     "cell_type": "markdown",
     "checksum": "c4e46e817f6116d61c7113030b321847",
     "grade": false,
     "grade_id": "cell-1944091de41ad613",
     "locked": true,
     "schema_version": 3,
     "solution": false,
     "task": false
    }
   },
   "source": [
    "---\n",
    "---\n",
    "---\n",
    "\n",
    "## Task 4.1\n",
    "\n",
    "**Visualize** the calculated values of the **Poisson Maximum Likelihood and least squares estimate** next to the single detector estimators by completing the **box plot below**.\n",
    "\n",
    "---\n",
    "---\n",
    "---"
   ]
  },
  {
   "cell_type": "code",
   "execution_count": null,
   "id": "3de912b6-ae0c-4ef8-8362-e5b8fff5476f",
   "metadata": {
    "deletable": false,
    "nbgrader": {
     "cell_type": "code",
     "checksum": "06acc36ac94735e2f88004fc63e42fa2",
     "grade": true,
     "grade_id": "cell-256a8313e3435c6f",
     "locked": false,
     "points": 1,
     "schema_version": 3,
     "solution": true,
     "task": false
    }
   },
   "outputs": [],
   "source": [
    "fig, ax = plt.subplots(1,1, figsize = (12,4), tight_layout = True)\n",
    "\n",
    "#boxplot2 = ax.boxplot([x_est_det1_only,x_est_det2_only,x_est_det3_only,x_est_single_det_avg], \n",
    "#                      labels = [f\"single_det_1 ({x_est_det1_only_numeric_expectation:.1f}, {x_est_det1_only_numeric_var:.1f})\", \n",
    "#                                f\"single_det_2 ({x_est_det2_only_numeric_expectation:.1f}, {x_est_det2_only_numeric_var:.1f})\", \n",
    "#                                f\"single_det_3 ({x_est_det3_only_numeric_expectation:.1f}, {x_est_det3_only_numeric_var:.1f})\", \n",
    "#                                f\"single_det_avg ({x_est_single_det_avg_numeric_expectation:.1f}, {x_est_single_det_avg_numeric_var:.1f})\"],\n",
    "#                      showmeans = True,\n",
    "#                     flierprops = {\"markersize\":1})\n",
    "\n",
    "\n",
    "# YOUR CODE HERE\n",
    "raise NotImplementedError()\n",
    "ax.grid(ls = \":\")\n",
    "ax.set_ylabel(\"estimated source activity [Bq]\")\n",
    "ax.set_xlabel(\"estimator type (expectation, variance)\")\n"
   ]
  },
  {
   "cell_type": "markdown",
   "id": "b1b071cb-ab8d-4fe8-82f1-77753676eb50",
   "metadata": {
    "deletable": false,
    "editable": false,
    "nbgrader": {
     "cell_type": "markdown",
     "checksum": "004b547a23a76cfcf249f7ab82b900d0",
     "grade": false,
     "grade_id": "cell-ddd6cdebbc57996a",
     "locked": true,
     "schema_version": 3,
     "solution": false,
     "task": false
    }
   },
   "source": [
    "---\n",
    "---\n",
    "---\n",
    "\n",
    "## Task 4.2\n",
    "\n",
    "4.2.a **Observation Analysis**  \n",
    "Describe the numerical values of the **expectation** and **variance** for the Poisson Maximum Likelihood and the Least Squares estimators based on the simulated experiments.\n",
    "\n",
    "4.2.b **Comparison**  \n",
    "Compare these values against the estimators obtained using data from individual detectors. Discuss which estimator appears to be most precise. Why is that the case?\n",
    "\n",
    "---\n",
    "---\n",
    "---"
   ]
  },
  {
   "cell_type": "markdown",
   "id": "a0eb8f22-b179-42f6-838d-6c5395ed45a0",
   "metadata": {
    "deletable": false,
    "nbgrader": {
     "cell_type": "markdown",
     "checksum": "751d48acb29c39aa1a6c8685c3ee9c58",
     "grade": true,
     "grade_id": "cell-88d5d668dedf1baa",
     "locked": false,
     "points": 1,
     "schema_version": 3,
     "solution": true,
     "task": false
    }
   },
   "source": [
    "YOUR ANSWER HERE"
   ]
  },
  {
   "cell_type": "markdown",
   "id": "01a9efe3-df04-4125-b4dc-2508925f172f",
   "metadata": {
    "deletable": false,
    "nbgrader": {
     "cell_type": "markdown",
     "checksum": "33a6c6035ae1bab68a58252b82bd3606",
     "grade": true,
     "grade_id": "cell-8cdc3f0c4f7411b3",
     "locked": false,
     "points": 1,
     "schema_version": 3,
     "solution": true,
     "task": false
    }
   },
   "source": [
    "YOUR ANSWER HERE"
   ]
  },
  {
   "cell_type": "markdown",
   "id": "ca18665d-d79f-471a-91d8-32022410f3b0",
   "metadata": {
    "deletable": false,
    "editable": false,
    "nbgrader": {
     "cell_type": "markdown",
     "checksum": "86dd2d7dae5245275bc55c002e69f266",
     "grade": false,
     "grade_id": "cell-774e5358d2ecdfb8",
     "locked": true,
     "schema_version": 3,
     "solution": false,
     "task": false
    }
   },
   "source": [
    "## Task 5\n",
    "\n",
    "For the **Poisson maximum likelihood and the least squares estimators** above, it is also possible to derive an **analytic expression for their expectation and their variance**.\n",
    "\n",
    "Implement these analytic expressions into the functions defined in the 4 cells below. \n"
   ]
  },
  {
   "cell_type": "code",
   "execution_count": null,
   "id": "13f1f2b8-b603-4e61-8d0d-0541cd4e4f6f",
   "metadata": {
    "deletable": false,
    "nbgrader": {
     "cell_type": "code",
     "checksum": "d3028346f11ebcc74766178b023e1385",
     "grade": false,
     "grade_id": "cell-f4e7eeb25730e82c",
     "locked": false,
     "schema_version": 3,
     "solution": true,
     "task": false
    }
   },
   "outputs": [],
   "source": [
    "def analytic_expectation_ml_poisson(x: float, a_1: float, a_2: float, a_3: float) -> float:\n",
    "    \"\"\"analytic value for the expectation of activity_estimator_ml_poisson\n",
    "\n",
    "    Parameters\n",
    "    ---------\n",
    "\n",
    "    x ... (float)\n",
    "        the (unknown) true activity of the source\n",
    "    a_1, a_2, a_3 ... (float)\n",
    "        detection sensitivities if detector 1, 2, and 3\n",
    "        product of acquisition time and intrinsic detection efficiency\n",
    "\n",
    "    Returns\n",
    "    -------\n",
    "\n",
    "    float\n",
    "    \n",
    "    The expectation of the estimator\n",
    "    \"\"\"\n",
    "\n",
    "    # YOUR CODE HERE\n",
    "    raise NotImplementedError()"
   ]
  },
  {
   "cell_type": "code",
   "execution_count": null,
   "id": "7bb92957-8441-41e8-acc4-8284490ae744",
   "metadata": {
    "deletable": false,
    "editable": false,
    "nbgrader": {
     "cell_type": "code",
     "checksum": "2d420cd7e09b510adbe6fad2a6314f94",
     "grade": true,
     "grade_id": "cell-50b083dbc9208514",
     "locked": true,
     "points": 1,
     "schema_version": 3,
     "solution": false,
     "task": false
    }
   },
   "outputs": [],
   "source": [
    "# SKIP THIS BLANK CELL FOR AUTOGRADING"
   ]
  },
  {
   "cell_type": "code",
   "execution_count": null,
   "id": "5fea3697-ab2d-4d14-8731-20b64cdb7122",
   "metadata": {
    "deletable": false,
    "editable": false,
    "nbgrader": {
     "cell_type": "code",
     "checksum": "bd9e3d1f7a4e5274e0a9e74b1fd96068",
     "grade": false,
     "grade_id": "cell-1cbf09af9dc23883",
     "locked": true,
     "schema_version": 3,
     "solution": false,
     "task": false
    }
   },
   "outputs": [],
   "source": [
    "# print the analytic value of the expectation for the parameter of our numerical experiments\n",
    "print(f\"analytic expectation of the ML Poisson estimator for x={x_true:.2f}, a_1 = {detector_sensitivities[0]:.2f}, a_2 = {detector_sensitivities[1]:.2f}, a_3 = {detector_sensitivities[2]:.2f}\")\n",
    "print(analytic_expectation_ml_poisson(x_true, detector_sensitivities[0], detector_sensitivities[1], detector_sensitivities[2]))"
   ]
  },
  {
   "cell_type": "code",
   "execution_count": null,
   "id": "4c6b78b6-7e9e-4876-a2db-0f8b57a7a392",
   "metadata": {
    "deletable": false,
    "nbgrader": {
     "cell_type": "code",
     "checksum": "02395ce99bafbae37ed5345113c6f1e1",
     "grade": false,
     "grade_id": "cell-7aebbaf5906832d0",
     "locked": false,
     "schema_version": 3,
     "solution": true,
     "task": false
    }
   },
   "outputs": [],
   "source": [
    "def analytic_variance_ml_poisson(x: float, a_1: float, a_2: float, a_3: float) -> float:\n",
    "    \"\"\"analytic value for the variance of activity_estimator_ml_poisson\n",
    "\n",
    "    Parameters\n",
    "    ---------\n",
    "\n",
    "    x ... (float)\n",
    "        the (unknown) true activity of the source\n",
    "    a_1, a_2, a_3 ... (float)\n",
    "        detection sensitivities if detector 1, 2, and 3\n",
    "        product of acquisition time and intrinsic detection efficiency\n",
    "\n",
    "    Returns\n",
    "    -------\n",
    "\n",
    "    float\n",
    "    \n",
    "    The variance of the estimator\n",
    "    \"\"\"\n",
    "\n",
    "    # YOUR CODE HERE\n",
    "    raise NotImplementedError()"
   ]
  },
  {
   "cell_type": "code",
   "execution_count": null,
   "id": "efc4b25e-78b9-4e88-a87e-5e1e395ee8ef",
   "metadata": {
    "deletable": false,
    "editable": false,
    "nbgrader": {
     "cell_type": "code",
     "checksum": "ddc95ffcc54307f61ed34edbdd526c36",
     "grade": true,
     "grade_id": "cell-3db6133b12e4c8c6",
     "locked": true,
     "points": 1,
     "schema_version": 3,
     "solution": false,
     "task": false
    }
   },
   "outputs": [],
   "source": [
    "# SKIP THIS BLANK CELL FOR AUTOGRADING"
   ]
  },
  {
   "cell_type": "code",
   "execution_count": null,
   "id": "9953ce73-ccbf-4027-8d70-bef55d437d04",
   "metadata": {
    "deletable": false,
    "editable": false,
    "nbgrader": {
     "cell_type": "code",
     "checksum": "cd690604b0c4abe0a7efb88a6b1a60df",
     "grade": false,
     "grade_id": "cell-c2c874404db90c1c",
     "locked": true,
     "schema_version": 3,
     "solution": false,
     "task": false
    }
   },
   "outputs": [],
   "source": [
    "# print the analytic value of the variance for the parameter of our numerical experiments\n",
    "print(f\"analytic variance of the ML Poisson estimator for x={x_true:.2f}, a_1 = {detector_sensitivities[0]:.2f}, a_2 = {detector_sensitivities[1]:.2f}, a_3 = {detector_sensitivities[2]:.2f}\")\n",
    "print(analytic_variance_ml_poisson(x_true, detector_sensitivities[0], detector_sensitivities[1], detector_sensitivities[2]))"
   ]
  },
  {
   "cell_type": "code",
   "execution_count": null,
   "id": "ec2ad241-937a-4c15-a4d9-a773eb6076d6",
   "metadata": {
    "deletable": false,
    "nbgrader": {
     "cell_type": "code",
     "checksum": "7c216a1efe2a3260cf3b3033143c9b57",
     "grade": false,
     "grade_id": "cell-56a7e3010f53583c",
     "locked": false,
     "schema_version": 3,
     "solution": true,
     "task": false
    }
   },
   "outputs": [],
   "source": [
    "def analytic_expectation_least_squares(x: float, a_1: float, a_2: float, a_3: float) -> float:\n",
    "    \"\"\"analytic value for the expectation of activity_estimator_least_squares\n",
    "\n",
    "    Parameters\n",
    "    ---------\n",
    "\n",
    "    x ... (float)\n",
    "        the (unknown) true activity of the source\n",
    "    a_1, a_2, a_3 ... (float)\n",
    "        detection sensitivities if detector 1, 2, and 3\n",
    "        product of acquisition time and intrinsic detection efficiency\n",
    "\n",
    "    Returns\n",
    "    -------\n",
    "\n",
    "    float\n",
    "    \n",
    "    The expectation of the estimator\n",
    "    \"\"\"\n",
    "\n",
    "    # YOUR CODE HERE\n",
    "    raise NotImplementedError()"
   ]
  },
  {
   "cell_type": "code",
   "execution_count": null,
   "id": "084af3f8-8390-40d5-b761-44f4d0a22569",
   "metadata": {
    "deletable": false,
    "editable": false,
    "nbgrader": {
     "cell_type": "code",
     "checksum": "0cc14b1db97bf4896516b9426949bf58",
     "grade": true,
     "grade_id": "cell-8cea8e68279e4109",
     "locked": true,
     "points": 1,
     "schema_version": 3,
     "solution": false,
     "task": false
    }
   },
   "outputs": [],
   "source": [
    "# SKIP THIS BLANK CELL FOR AUTOGRADING"
   ]
  },
  {
   "cell_type": "code",
   "execution_count": null,
   "id": "42fcbc2c-f860-4d30-a781-ae86ae2af32e",
   "metadata": {
    "deletable": false,
    "editable": false,
    "nbgrader": {
     "cell_type": "code",
     "checksum": "8628bf13ddebfa2fd9588186e7cba417",
     "grade": false,
     "grade_id": "cell-32b13be7655d1422",
     "locked": true,
     "schema_version": 3,
     "solution": false,
     "task": false
    }
   },
   "outputs": [],
   "source": [
    "# print the analytic value of the expectation for the parameter of our numerical experiments\n",
    "print(f\"analytic expectation of the least squares estimator for x={x_true:.2f}, a_1 = {detector_sensitivities[0]:.2f}, a_2 = {detector_sensitivities[1]:.2f}, a_3 = {detector_sensitivities[2]:.2f}\")\n",
    "print(analytic_expectation_least_squares(x_true, detector_sensitivities[0], detector_sensitivities[1], detector_sensitivities[2]))"
   ]
  },
  {
   "cell_type": "code",
   "execution_count": null,
   "id": "1660bf0b-93ca-48ae-b729-a5d96859dcbd",
   "metadata": {
    "deletable": false,
    "nbgrader": {
     "cell_type": "code",
     "checksum": "67fe2acda172b3cdf26fc2547bc3f18b",
     "grade": false,
     "grade_id": "cell-bb95e20fd4766771",
     "locked": false,
     "schema_version": 3,
     "solution": true,
     "task": false
    }
   },
   "outputs": [],
   "source": [
    "def analytic_variance_least_squares(x: float, a_1: float, a_2: float, a_3: float) -> float:\n",
    "    \"\"\"analytic value for the variance of activity_estimator_least_squares\n",
    "\n",
    "    Parameters\n",
    "    ---------\n",
    "\n",
    "    x ... (float)\n",
    "        the (unknown) true activity of the source\n",
    "    a_1, a_2, a_3 ... (float)\n",
    "        detection sensitivities if detector 1, 2, and 3\n",
    "        product of acquisition time and intrinsic detection efficiency\n",
    "\n",
    "    Returns\n",
    "    -------\n",
    "\n",
    "    float\n",
    "    \n",
    "    The variance of the estimator\n",
    "    \"\"\"\n",
    "\n",
    "    # YOUR CODE HERE\n",
    "    raise NotImplementedError()"
   ]
  },
  {
   "cell_type": "code",
   "execution_count": null,
   "id": "3d85dc6c-fb1b-461c-9030-65f242002508",
   "metadata": {
    "deletable": false,
    "editable": false,
    "nbgrader": {
     "cell_type": "code",
     "checksum": "781fd340f71087ab75134408a1675f6b",
     "grade": true,
     "grade_id": "cell-82e91021f0c0c103",
     "locked": true,
     "points": 1,
     "schema_version": 3,
     "solution": false,
     "task": false
    }
   },
   "outputs": [],
   "source": [
    "# SKIP THIS BLANK CELL FOR AUTOGRADING"
   ]
  },
  {
   "cell_type": "code",
   "execution_count": null,
   "id": "9f639fff-cbfd-4f00-8339-31f83e5e1360",
   "metadata": {
    "deletable": false,
    "editable": false,
    "nbgrader": {
     "cell_type": "code",
     "checksum": "eeaf1b5e8928a67f4fe1321492c0ceea",
     "grade": false,
     "grade_id": "cell-3ee1e81e977f1f9f",
     "locked": true,
     "schema_version": 3,
     "solution": false,
     "task": false
    }
   },
   "outputs": [],
   "source": [
    "# print the analytic value of the variance for the parameter of our numerical experiments\n",
    "print(f\"analytic variance of the least squares estimator for x={x_true:.2f}, a_1 = {detector_sensitivities[0]:.2f}, a_2 = {detector_sensitivities[1]:.2f}, a_3 = {detector_sensitivities[2]:.2f}\")\n",
    "print(analytic_variance_least_squares(x_true, detector_sensitivities[0], detector_sensitivities[1], detector_sensitivities[2]))"
   ]
  },
  {
   "cell_type": "markdown",
   "id": "e790c5fc-448c-4887-9764-38b14c5010f5",
   "metadata": {
    "deletable": false,
    "editable": false,
    "nbgrader": {
     "cell_type": "markdown",
     "checksum": "86cb17dcb318b13047350e6a4e698ea6",
     "grade": false,
     "grade_id": "cell-e7a8b61770a13c7f",
     "locked": true,
     "schema_version": 3,
     "solution": false,
     "task": false
    }
   },
   "source": [
    "---\n",
    "---\n",
    "---\n",
    "\n",
    "## Task 6\n",
    "\n",
    "Summarize in your own words, what you learned by completing this notebook. Use the markdown cell below.\n",
    "\n",
    "---\n",
    "---\n",
    "---"
   ]
  },
  {
   "cell_type": "markdown",
   "id": "2ee15f17-55ff-4263-8f54-776a76c992ab",
   "metadata": {
    "deletable": false,
    "nbgrader": {
     "cell_type": "markdown",
     "checksum": "10f10b817ac95f919eaecb0d5553ddd2",
     "grade": true,
     "grade_id": "cell-4c08fc1090578bb5",
     "locked": false,
     "points": 0,
     "schema_version": 3,
     "solution": true,
     "task": false
    }
   },
   "source": [
    "YOUR ANSWER HERE"
   ]
  }
 ],
 "metadata": {
  "kernelspec": {
   "display_name": "Python 3 (ipykernel)",
   "language": "python",
   "name": "python3"
  },
  "language_info": {
   "codemirror_mode": {
    "name": "ipython",
    "version": 3
   },
   "file_extension": ".py",
   "mimetype": "text/x-python",
   "name": "python",
   "nbconvert_exporter": "python",
   "pygments_lexer": "ipython3",
   "version": "3.12.7"
  }
 },
 "nbformat": 4,
 "nbformat_minor": 5
}
