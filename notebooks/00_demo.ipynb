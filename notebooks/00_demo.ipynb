{
 "cells": [
  {
   "cell_type": "markdown",
   "metadata": {},
   "source": [
    "# Demo python / markdown notebook\n",
    "\n",
    "More details and a quickstart on the numpy (array) library can be found [here](https://numpy.org/doc/1.26/user/quickstart.html).\n",
    "\n",
    "A quickstart for matplotlib (plotting library) can be found [here](https://matplotlib.org/3.8.4/users/explain/quick_start.html).\n",
    "\n",
    "A nice gallery of matplotlib example plots can be found [here](https://matplotlib.org/3.8.4/gallery/index.html)."
   ]
  },
  {
   "cell_type": "markdown",
   "metadata": {},
   "source": [
    "## (1) Creating a simple plot in python using numpy and matplotlib"
   ]
  },
  {
   "cell_type": "code",
   "execution_count": null,
   "metadata": {},
   "outputs": [],
   "source": [
    "# Importing numpy and matplotlib libraries\n",
    "import numpy as np\n",
    "import matplotlib.pyplot as plt"
   ]
  },
  {
   "cell_type": "code",
   "execution_count": null,
   "metadata": {},
   "outputs": [],
   "source": [
    "# Let's create a simple array of numbers from 0 to 10, spaced by 0.1\n",
    "x = np.arange(0, 10, 0.1)\n",
    "# Now, we will create another array that is the sine of these numbers\n",
    "sinx = np.sin(x)\n",
    "# Now, we will create another array that is the sine of these numbers\n",
    "cosx = np.cos(x)\n"
   ]
  },
  {
   "cell_type": "code",
   "execution_count": null,
   "metadata": {},
   "outputs": [],
   "source": [
    "# Plotting the array using matplotlib\n",
    "fig, ax = plt.subplots(1,2, figsize=(8,4), tight_layout=True)\n",
    "ax[0].plot(x, sinx)\n",
    "ax[1].plot(x, cosx, label=r\"$cos(x)$\")\n",
    "ax[1].plot(x, cosx**2, label=r\"$cos^2(x)$\")\n",
    "\n",
    "ax[0].set_title('sine')\n",
    "ax[1].set_title('cosine and cosine squared')\n",
    "\n",
    "ax[0].set_xlabel('x')\n",
    "ax[1].set_xlabel('x')\n",
    "\n",
    "ax[0].set_ylabel('f(x)')\n",
    "ax[1].set_ylabel('f(x)')\n",
    "\n",
    "ax[0].grid(ls=':')\n",
    "ax[1].grid(ls=':')\n",
    "\n",
    "ax[1].legend()"
   ]
  },
  {
   "cell_type": "markdown",
   "metadata": {},
   "source": [
    "## (2) Demo exercise 1\n",
    "\n",
    "Complete / correct the code in the cell below to plot the function\n",
    "\n",
    "$$ f(x) = \\tan (x)$$"
   ]
  },
  {
   "cell_type": "code",
   "execution_count": null,
   "metadata": {},
   "outputs": [],
   "source": [
    "###############################\n",
    "# correct this line\n",
    "tanx = x\n",
    "###############################\n",
    "\n",
    "# Plotting the array using matplotlib\n",
    "fig, ax = plt.subplots(1,1, figsize=(4,4), tight_layout=True)\n",
    "ax.plot(x, tanx)\n",
    "\n",
    "###############################\n",
    "# set the x and y axis labels here, and add a title\n",
    "\n",
    "\n",
    "###############################"
   ]
  },
  {
   "cell_type": "markdown",
   "metadata": {},
   "source": [
    "## (3) Random numbers an histograms"
   ]
  },
  {
   "cell_type": "code",
   "execution_count": null,
   "metadata": {},
   "outputs": [],
   "source": [
    "# seed numpy's pseudo-random number generator to make sure that the result is reproducible\n",
    "np.random.seed(0)\n",
    "\n",
    "# create a 100000 samples of a random number following a normal distribution\n",
    "n = 100000\n",
    "x = np.random.randn(n)\n",
    "\n",
    "# create a histogram of the data\n",
    "bin_edges = np.linspace(-5, 5, 31)\n",
    "bin_centers = 0.5*(bin_edges[1:] + bin_edges[:-1])\n",
    "counts, bin_edges = np.histogram(x, bins=bin_edges)\n",
    "\n",
    "# plot the histogram\n",
    "fig, ax = plt.subplots(1,2, figsize=(8,4), tight_layout=True)\n",
    "ax[0].plot(bin_centers, counts, drawstyle='steps-mid')\n",
    "ax[1].plot(bin_centers, counts / counts.sum(), drawstyle='steps-mid')\n",
    "ax[0].set_ylim(0, None)\n",
    "ax[1].set_ylim(0, None)\n",
    "ax[0].set_xlabel('x')\n",
    "ax[1].set_xlabel('x')\n",
    "ax[0].grid(ls=':')\n",
    "ax[1].grid(ls=':')\n",
    "ax[0].set_title('histogram')\n",
    "ax[1].set_title('normalized histogram')\n"
   ]
  },
  {
   "cell_type": "markdown",
   "metadata": {},
   "source": [
    "# This is a cell showing how to use Markdown for documentation\n",
    "## This is a subheading\n",
    "\n",
    "You can write regular text, which is great for describing your code!\n",
    "**This is bold text**. *This is italic text**\n",
    "\n",
    "### Lists in Markdown\n",
    "- Item a\n",
    "- Item b\n",
    "\n",
    "### Numbered Lists in Markdown\n",
    "1. Item 1\n",
    "2. Item 2\n",
    "\n",
    "### LaTeX in Markdown\n",
    "You can also include mathematical expressions using LaTeX syntax:\n",
    "For example, to display an equation, use the following syntax:\n",
    "\n",
    "$$ y = \\sin(x) $$\n",
    "\n",
    "### Markdown cheat sheet\n",
    "\n",
    "See [here](https://www.markdownguide.org/cheat-sheet/)."
   ]
  },
  {
   "cell_type": "markdown",
   "metadata": {},
   "source": [
    "## (2) Demo exercise 2\n",
    "\n",
    "Add your favorite equation in the markdown cell below using latex notation.\n"
   ]
  },
  {
   "cell_type": "markdown",
   "metadata": {},
   "source": [
    "My favorite equation of all time is ..."
   ]
  }
 ],
 "metadata": {
  "kernelspec": {
   "display_name": "course-nucmed-myst",
   "language": "python",
   "name": "python3"
  },
  "language_info": {
   "codemirror_mode": {
    "name": "ipython",
    "version": 3
   },
   "file_extension": ".py",
   "mimetype": "text/x-python",
   "name": "python",
   "nbconvert_exporter": "python",
   "pygments_lexer": "ipython3",
   "version": "3.12.7"
  }
 },
 "nbformat": 4,
 "nbformat_minor": 2
}
