{
 "cells": [
  {
   "cell_type": "markdown",
   "metadata": {},
   "source": [
    "# Do it yourself: 2D filtered back projection"
   ]
  },
  {
   "cell_type": "markdown",
   "metadata": {},
   "source": [
    "## Simulate demo image and sinogram to be reconstructed"
   ]
  },
  {
   "cell_type": "code",
   "execution_count": null,
   "metadata": {
    "tags": [
     "remove-output"
    ]
   },
   "outputs": [],
   "source": [
    "import array_api_compat.numpy as np\n",
    "import matplotlib.pyplot as plt\n",
    "from utils import demo_phantom_and_projector"
   ]
  },
  {
   "cell_type": "code",
   "execution_count": null,
   "metadata": {},
   "outputs": [],
   "source": [
    "# choose number of radial elements, number of views and angular coverage\n",
    "num_rad = 301\n",
    "phi_max = np.pi\n",
    "num_phi = (int(0.5 * num_rad * np.pi * (phi_max / np.pi)) + 1) // 1"
   ]
  },
  {
   "cell_type": "code",
   "execution_count": null,
   "metadata": {},
   "outputs": [],
   "source": [
    "# setup 1D arrays containing the radial and angular coordinates\n",
    "r = np.linspace(-30, 30, num_rad, dtype=np.float32)\n",
    "phi = np.linspace(0, phi_max, num_phi, endpoint=False, dtype=np.float32)"
   ]
  },
  {
   "cell_type": "code",
   "execution_count": null,
   "metadata": {},
   "outputs": [],
   "source": [
    "# get: - a demo radon object (an test image where we can calculate the radon transform analytically)\n",
    "#      - a sinogram (discrete radon transform) of the object\n",
    "#      - get a projector (line integral calculator) that allows us to reconstruct\n",
    "radon_object, sino, proj = demo_phantom_and_projector(r, phi)"
   ]
  },
  {
   "cell_type": "code",
   "execution_count": null,
   "metadata": {},
   "outputs": [],
   "source": [
    "# generate a high-resolution discrete ground truth image\n",
    "x = np.linspace(float(np.min(r)), float(np.max(r)), 1001, dtype=np.float32)\n",
    "X0hr, X1hr = np.meshgrid(x, x, indexing=\"ij\")\n",
    "high_res_ground_truth = radon_object.values(X0hr, X1hr)\n",
    "\n",
    "ext_img = [float(np.min(r)), float(np.max(r)), float(np.min(r)), float(np.max(r))]\n",
    "ext_sino = [float(np.min(r)), float(np.max(r)), float(np.min(phi)), float(np.max(phi))]\n",
    "\n",
    "img_kwargs = dict(cmap=\"Greys\", extent=ext_img, origin=\"lower\", vmin = 0)\n",
    "sino_kwargs = dict(cmap=\"Greys\", aspect=20, extent=ext_sino, origin=\"lower\")\n",
    "\n",
    "fig, ax = plt.subplots(1, 2, figsize=(8, 4), tight_layout=True)\n",
    "ax[0].imshow(high_res_ground_truth.T, **img_kwargs)\n",
    "ax[1].imshow(sino.T, **sino_kwargs)\n",
    "ax[0].set_title(\"(discretized) object - ground truth\", fontsize=\"small\")\n",
    "ax[1].set_title(\"forward projection (sinogram) of object\", fontsize=\"small\")\n",
    "\n",
    "ax[0].set_xlabel(r\"$x_0$\")\n",
    "ax[0].set_ylabel(r\"$x_1$\")\n",
    "ax[1].set_xlabel(r\"$s$\")\n",
    "ax[1].set_ylabel(r\"$\\phi$\")"
   ]
  },
  {
   "cell_type": "markdown",
   "metadata": {},
   "source": [
    "## Calculate a simple back projection of the sinogram"
   ]
  },
  {
   "cell_type": "code",
   "execution_count": null,
   "metadata": {},
   "outputs": [],
   "source": [
    "# back project the sinogram\n",
    "# the back projection is the adjoint of the forward projection\n",
    "back_proj = proj.adjoint(sino)"
   ]
  },
  {
   "cell_type": "code",
   "execution_count": null,
   "metadata": {},
   "outputs": [],
   "source": [
    "fig, ax = plt.subplots(1, 1, figsize=(4, 4), tight_layout=True)\n",
    "ax.imshow(back_proj.T, **img_kwargs)\n",
    "ax.set_title(\"back projection of sinogram\", fontsize=\"small\")\n",
    "ax.set_xlabel(r\"$x_0\")\n",
    "ax.set_ylabel(r\"$x_1$\")"
   ]
  },
  {
   "cell_type": "markdown",
   "metadata": {},
   "source": [
    "## Setup of the ramp filter"
   ]
  },
  {
   "cell_type": "code",
   "execution_count": null,
   "metadata": {},
   "outputs": [],
   "source": [
    "# setup a discrete ramp filter\n",
    "n_filter = r.shape[0]\n",
    "r_shift = np.arange(n_filter, dtype=np.float64) - n_filter // 2\n",
    "f = np.zeros(n_filter, dtype=np.float64)\n",
    "f[r_shift != 0] = -1 / (np.pi**2 * r_shift[r_shift != 0] ** 2)\n",
    "f[(r_shift % 2) == 0] = 0\n",
    "f[r_shift == 0] = 0.25"
   ]
  },
  {
   "cell_type": "code",
   "execution_count": null,
   "metadata": {},
   "outputs": [],
   "source": [
    "# visualize the dicretized ramp filter\n",
    "figr, axr = plt.subplots(1, 2, figsize = (9,4.5))\n",
    "axr[0].plot(np.arange(num_rad) - num_rad//2, f)\n",
    "axr[1].plot(np.arange(num_rad) - num_rad//2, f, \".-\")\n",
    "axr[1].set_xlim(-6,6)\n",
    "axr[0].set_title(\"discretized ramp filter\", fontsize = \"small\")\n",
    "axr[1].set_title(\"discretized ramp filter (zoom)\", fontsize = \"small\")\n",
    "axr[0].grid(ls=':')\n",
    "axr[1].grid(ls=':')"
   ]
  },
  {
   "cell_type": "markdown",
   "metadata": {},
   "source": [
    "## Calculate a filtered back projection of the sinogram"
   ]
  },
  {
   "cell_type": "code",
   "execution_count": null,
   "metadata": {},
   "outputs": [],
   "source": [
    "# ramp filter the sinogram in the radial direction - view by view\n",
    "filtered_sino = np.zeros_like(sino)\n",
    "\n",
    "for i in range(num_phi):\n",
    "    filtered_sino[:, i] = np.convolve(sino[:, i], f, mode=\"same\")"
   ]
  },
  {
   "cell_type": "code",
   "execution_count": null,
   "metadata": {},
   "outputs": [],
   "source": [
    "fig, ax = plt.subplots(1, 1, figsize=(4, 4), tight_layout=True)\n",
    "ax.imshow(filtered_sino.T, **sino_kwargs)\n",
    "ax.set_title(\"ramp filtered sinogram\", fontsize=\"small\")\n",
    "ax.set_xlabel(r\"$s$\")\n",
    "ax.set_ylabel(r\"$\\phi$\")"
   ]
  },
  {
   "cell_type": "code",
   "execution_count": null,
   "metadata": {},
   "outputs": [],
   "source": [
    "# back project the ramp filtered sinogram\n",
    "filtered_back_proj = proj.adjoint(filtered_sino)"
   ]
  },
  {
   "cell_type": "code",
   "execution_count": null,
   "metadata": {},
   "outputs": [],
   "source": [
    "fig, ax = plt.subplots(1, 1, figsize=(4, 4), tight_layout=True)\n",
    "ax.imshow(filtered_back_proj.T, **img_kwargs)\n",
    "ax.set_title(\"filtered back projection of sinogram\", fontsize=\"small\")\n",
    "ax.set_xlabel(r\"$s$\")\n",
    "ax.set_ylabel(r\"$\\phi$\")"
   ]
  },
  {
   "cell_type": "markdown",
   "metadata": {},
   "source": [
    "## Visualize all results"
   ]
  },
  {
   "cell_type": "code",
   "execution_count": null,
   "metadata": {},
   "outputs": [],
   "source": [
    "fig, ax = plt.subplots(2, 3, figsize=(9, 6), tight_layout=True)\n",
    "ax[0, 0].imshow(high_res_ground_truth.T, **img_kwargs)\n",
    "ax[1, 1].imshow(sino.T, **sino_kwargs)\n",
    "ax[1, 2].imshow(filtered_sino.T, **sino_kwargs)\n",
    "ax[0, 1].imshow(back_proj.T, **img_kwargs)\n",
    "ax[0, 2].imshow(filtered_back_proj.T, **img_kwargs)\n",
    "\n",
    "for axx in ax[0, :].ravel():\n",
    "    axx.set_xlabel(r\"$x_0$\")\n",
    "    axx.set_ylabel(r\"$x_1$\")\n",
    "for axx in ax[1, 1:].ravel():\n",
    "    axx.set_xlabel(r\"$s$\")\n",
    "    axx.set_ylabel(r\"$\\phi$\")\n",
    "\n",
    "ax[1, 0].set_axis_off()\n",
    "\n",
    "ax[0, 0].set_title(\"object\", fontsize=\"small\")\n",
    "ax[0, 1].set_title(\"back projection of sinogram\", fontsize=\"small\")\n",
    "ax[0, 2].set_title(\"filtered back projection of sinogram\", fontsize=\"small\")\n",
    "\n",
    "ax[1, 1].set_title(\"radon transform of object - sinogram\", fontsize=\"small\")\n",
    "ax[1, 2].set_title(\"ramp filtered sinogram\", fontsize=\"small\")"
   ]
  }
 ],
 "metadata": {
  "language_info": {
   "name": "python"
  }
 },
 "nbformat": 4,
 "nbformat_minor": 2
}
