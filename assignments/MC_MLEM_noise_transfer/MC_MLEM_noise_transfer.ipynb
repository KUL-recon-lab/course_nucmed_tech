{
 "cells": [
  {
   "cell_type": "markdown",
   "id": "08457dd6",
   "metadata": {
    "deletable": false,
    "editable": false,
    "nbgrader": {
     "cell_type": "markdown",
     "checksum": "01b0f92228db42e19581426ddbe95f21",
     "grade": false,
     "grade_id": "cell-a127b171d7c1adab",
     "locked": true,
     "schema_version": 3,
     "solution": false,
     "task": false
    }
   },
   "source": [
    "# Monte Carlo methods to investigate the noise transfer and noise correlations in PET image reconstruction using MLEM \n"
   ]
  },
  {
   "cell_type": "markdown",
   "id": "c13c5b71",
   "metadata": {
    "deletable": false,
    "editable": false,
    "nbgrader": {
     "cell_type": "markdown",
     "checksum": "2ebea42595d2cef273d8fd86b74e4490",
     "grade": false,
     "grade_id": "cell-82db7ef6038296e9",
     "locked": true,
     "schema_version": 3,
     "solution": false,
     "task": false
    }
   },
   "source": [
    "## Background"
   ]
  },
  {
   "cell_type": "markdown",
   "id": "6f63da46",
   "metadata": {
    "deletable": false,
    "editable": false,
    "nbgrader": {
     "cell_type": "markdown",
     "checksum": "ed5ef6d10c6b2aae51d55c69da355137",
     "grade": false,
     "grade_id": "cell-7444a65e4716f52d",
     "locked": true,
     "schema_version": 3,
     "solution": false,
     "task": false
    }
   },
   "source": [
    "In Positron Emission Tomography (PET), we aim to measure the activity distribution of a radiotracer administered to a patient. Via the coincidence detection of two 511 keV photons originating from positron-electron annihilation, we can acquire information about (weighted) line integrals of the activity concentration, which can be used for tomographic image reconstruction.\n",
    "Due to limitations in the amount of radiotracer that can be safely injected into a patient, the sensitivity of scanners and the available acquisition time, **acquired projection data in PET imaging** usually suffer from **very high levels of Poisson noise**."
   ]
  },
  {
   "cell_type": "markdown",
   "id": "ad196f5a",
   "metadata": {
    "deletable": false,
    "editable": false,
    "nbgrader": {
     "cell_type": "markdown",
     "checksum": "741b52eef5b1da8fed19dae9b2775a76",
     "grade": false,
     "grade_id": "cell-0fc432c66958b3a5",
     "locked": true,
     "schema_version": 3,
     "solution": false,
     "task": false
    }
   },
   "source": [
    "<img src=\"figs/pet_acq_recon.png\" width=700/>"
   ]
  },
  {
   "cell_type": "markdown",
   "id": "a351a447",
   "metadata": {
    "deletable": false,
    "editable": false,
    "nbgrader": {
     "cell_type": "markdown",
     "checksum": "2bc5816d7d372cdf252c671ac88a39cf",
     "grade": false,
     "grade_id": "cell-2ca9ddc1f10e8150",
     "locked": true,
     "schema_version": 3,
     "solution": false,
     "task": false
    }
   },
   "source": [
    "During the image reconstruction process, the **noise** of the data gets **transferred into the reconstructed images**. In clinical practice, the early-stopped iterative maximum likelihood expectation maximization (**MLEM**) algorithm is commonly used to reconstruct PET and SPECT images. When using early-stopped MLEM, an **analytic prediction** of the expected **noise level** in every voxel of the reconstructed image and the **noise correlations** between neighboring voxels is unfortunately **rather complicated**. Fortunately, we can use **Monte Carlo techniques to simulate various noise realizations** of simulated noise-free data. In PET this is possible since we know that the acquired data follow independent Poisson distributions. Reconstructions of all these noise realizations allow to us to numerically study the noise transfer from acquired data to the reconstructed image by e.g. analyzing the distribution of the reconstructed values in a given pixel across all noise realizations."
   ]
  },
  {
   "cell_type": "markdown",
   "id": "917a77dd",
   "metadata": {
    "deletable": false,
    "editable": false,
    "nbgrader": {
     "cell_type": "markdown",
     "checksum": "4c84a5e85547dbf022c5e25b46c72040",
     "grade": false,
     "grade_id": "cell-32abff99a9f29fa5",
     "locked": true,
     "schema_version": 3,
     "solution": false,
     "task": false
    }
   },
   "source": [
    "<img src=\"figs/noise_real.png\" width=900/>"
   ]
  },
  {
   "cell_type": "markdown",
   "id": "6321a31d",
   "metadata": {
    "deletable": false,
    "editable": false,
    "nbgrader": {
     "cell_type": "markdown",
     "checksum": "1c816f79abb860d659c2503b80bf7f00",
     "grade": false,
     "grade_id": "cell-7ed3e323a35bb17e",
     "locked": true,
     "schema_version": 3,
     "solution": false,
     "task": false
    }
   },
   "source": [
    "## Learning objetive"
   ]
  },
  {
   "cell_type": "markdown",
   "id": "387a70a5",
   "metadata": {
    "deletable": false,
    "editable": false,
    "nbgrader": {
     "cell_type": "markdown",
     "checksum": "c5b042f62cb8f81eab6e4dcc6ba4de99",
     "grade": false,
     "grade_id": "cell-2b9ef26f271333a1",
     "locked": true,
     "schema_version": 3,
     "solution": false,
     "task": false
    }
   },
   "source": [
    "The aim of this notebook is to learn how to investigate noise transfer in iterative image reconstruction and noise correlations using Monte Carlo methods. To do so, we will first simulate noise-free PET data. Second, we will generate various noise realizations by adding Poisson noise to the noise-free data. Last but not least, we will reconstruct all noise realizations using MLEM and study the noise properties by analyzing all reconstructions."
   ]
  },
  {
   "cell_type": "markdown",
   "id": "74df815c",
   "metadata": {
    "deletable": false,
    "editable": false,
    "nbgrader": {
     "cell_type": "markdown",
     "checksum": "9404eaef3e7c15bc41652930fb34d20f",
     "grade": false,
     "grade_id": "cell-b23a494a8b7b73a8",
     "locked": true,
     "schema_version": 3,
     "solution": false,
     "task": false
    }
   },
   "source": [
    "**Additional background information (not needed to solve this notebook)** on MLEM is available in [this video](https://www.youtube.com/watch?v=CHKOSYdf47c) and in [this video](https://www.youtube.com/watch?v=Z70n5NCw9BY). Moreover, background information on the concept of maximum likelihood approaches are available [here](https://www.youtube.com/watch?v=uTa7g_h4c1E). Background information on PET and SPECT (**not needed to solve this notebook**)  is available [here](https://www.youtube.com/watch?v=M8DOzE2d0dw) and [here](https://www.youtube.com/watch?v=4mrtq8CeLvo&list=PLKkWkQgtnBS1tWAE3-TL1-MDKY9EUJTFP&index=2)."
   ]
  },
  {
   "cell_type": "markdown",
   "id": "6d974566",
   "metadata": {
    "deletable": false,
    "editable": false,
    "nbgrader": {
     "cell_type": "markdown",
     "checksum": "7116c8177c05f4a3ed5ebf8c00ac27e6",
     "grade": false,
     "grade_id": "cell-059a6e9921059494",
     "locked": true,
     "schema_version": 3,
     "solution": false,
     "task": false
    }
   },
   "source": [
    "**This notebook provides all python functions and classes needed to simulate and reconstruct \"realistic\" 2D PET data using MLEM. It contains two bigger programming tasks (including smaller sub-tasks) that have to be solved by you.**\n",
    "\n",
    "**Task 1 focuses on the generation and analysis of Poisson noise realizations of PET data**.\n",
    "\n",
    "**Task 2 focuses on the reconstruction of all these noise realization and the analysis of the noise transfer into\n",
    "the reconstructed images.**"
   ]
  },
  {
   "cell_type": "markdown",
   "id": "8d61a1b7",
   "metadata": {
    "deletable": false,
    "editable": false,
    "nbgrader": {
     "cell_type": "markdown",
     "checksum": "e410e66b731382de14e8af4dd38ca300",
     "grade": false,
     "grade_id": "cell-4a86c42184054bd7",
     "locked": true,
     "schema_version": 3,
     "solution": false,
     "task": false
    }
   },
   "source": [
    "### Module import section"
   ]
  },
  {
   "cell_type": "code",
   "execution_count": null,
   "id": "6ba0bfe2",
   "metadata": {
    "deletable": false,
    "editable": false,
    "nbgrader": {
     "cell_type": "code",
     "checksum": "58cc8ddd160e2d4e2936f6defc4e9102",
     "grade": false,
     "grade_id": "cell-28fa51cd49432c9f",
     "locked": true,
     "schema_version": 3,
     "solution": false,
     "task": false
    }
   },
   "outputs": [],
   "source": [
    "# RUN, BUT DO NOT CHANGE THIS CELL\n",
    "\n",
    "# import of modules that we need in this notebook\n",
    "# make sure that utils.py is placed in the same directory \n",
    "\n",
    "import numpy as np\n",
    "import matplotlib.pyplot as plt\n",
    "from scipy.stats import pearsonr\n",
    "from utils import RotationBased2DProjector, PETAcquisitionModel, ImageBasedResolutionModel, test_images, OSMLEM\n",
    "\n",
    "# needed to get inline matplotlib plots in an IPython notebook\n",
    "%matplotlib inline"
   ]
  },
  {
   "cell_type": "markdown",
   "id": "d277d1ea",
   "metadata": {
    "deletable": false,
    "editable": false,
    "nbgrader": {
     "cell_type": "markdown",
     "checksum": "0fcad92c6c066025fe4638007f84500e",
     "grade": false,
     "grade_id": "cell-147daed7ba562c45",
     "locked": true,
     "schema_version": 3,
     "solution": false,
     "task": false
    }
   },
   "source": [
    "### Input parameter section"
   ]
  },
  {
   "cell_type": "code",
   "execution_count": null,
   "id": "90992e18",
   "metadata": {
    "deletable": false,
    "editable": false,
    "nbgrader": {
     "cell_type": "code",
     "checksum": "a950f3ccfc336d7f8efb331d439806bb",
     "grade": false,
     "grade_id": "cell-a929c6dc2436f331",
     "locked": true,
     "schema_version": 3,
     "solution": false,
     "task": false
    }
   },
   "outputs": [],
   "source": [
    "# RUN, BUT DO NOT CHANGE THIS CELL\n",
    "\n",
    "# number of pixels for our images to be simulated and reconstructed\n",
    "npix = 150\n",
    "# pixel size in mm\n",
    "pix_size_mm = 4\n",
    "\n",
    "# number of iterations to use for OS-MLEM\n",
    "num_iter    = 4\n",
    "num_subsets = 20\n",
    "\n",
    "# set the default color map to Greys (white to black) for showing images\n",
    "plt.rcParams['image.cmap'] = 'Greys'"
   ]
  },
  {
   "cell_type": "markdown",
   "id": "728aa27d",
   "metadata": {
    "deletable": false,
    "editable": false,
    "nbgrader": {
     "cell_type": "markdown",
     "checksum": "bfcdca08138ec3793617eb973ddfda38",
     "grade": false,
     "grade_id": "cell-5bb0273c3cd75117",
     "locked": true,
     "schema_version": 3,
     "solution": false,
     "task": false
    }
   },
   "source": [
    "### Setup of ground truth images\n",
    "\n",
    "We set up a simple elliptical 2D image representing a homogeneous uptake of a PET radiotracer in the abdomen and arms (```em_img```). Moreover, we also generate a corresponding attenuation image mimicking water attenuation inside the body (```att_img```). Note that the attenuation image is only needed in the forward model to model the effect of photon attenuation during data acquisition. During image reconstruction, we aim to recover the emission image from the acquired (noisy) projection data."
   ]
  },
  {
   "cell_type": "code",
   "execution_count": null,
   "id": "15d1bbe2",
   "metadata": {
    "deletable": false,
    "editable": false,
    "nbgrader": {
     "cell_type": "code",
     "checksum": "6eb4eece16c88a12c8d56fe5f9777491",
     "grade": false,
     "grade_id": "cell-3bc904c16e8e4d8d",
     "locked": true,
     "schema_version": 3,
     "solution": false,
     "task": false
    }
   },
   "outputs": [],
   "source": [
    "# RUN, BUT DO NOT CHANGE THIS CELL\n",
    "\n",
    "# generate the ground truth activity (emission) and attenuation images that we use for the data simulation\n",
    "em_img, att_img = test_images(npix)"
   ]
  },
  {
   "cell_type": "code",
   "execution_count": null,
   "id": "168f5ca2",
   "metadata": {
    "deletable": false,
    "editable": false,
    "nbgrader": {
     "cell_type": "code",
     "checksum": "5b07160e920bc9ef6ecd5b08ab5ed6ba",
     "grade": false,
     "grade_id": "cell-0d848f1f90fcd6b0",
     "locked": true,
     "schema_version": 3,
     "solution": false,
     "task": false
    }
   },
   "outputs": [],
   "source": [
    "# RUN, BUT DO NOT CHANGE THIS CELL\n",
    "\n",
    "# show the true activity (emission) image and the attenuation image\n",
    "fig, ax = plt.subplots(1,2)\n",
    "im0 = ax[0].imshow(em_img)\n",
    "im1 = ax[1].imshow(att_img)\n",
    "fig.colorbar(im0, ax = ax[0], location = 'bottom')\n",
    "fig.colorbar(im1, ax = ax[1], location = 'bottom')\n",
    "ax[0].set_title('ground truth activity image')\n",
    "ax[1].set_title('ground truth attenuation image')\n",
    "fig.tight_layout()\n",
    "\n",
    "print(f'image shape {em_img.shape}')"
   ]
  },
  {
   "cell_type": "markdown",
   "id": "af6c3151",
   "metadata": {
    "deletable": false,
    "editable": false,
    "nbgrader": {
     "cell_type": "markdown",
     "checksum": "7f07bafc0295e3d38c5943d0164499ae",
     "grade": false,
     "grade_id": "cell-6f9ecf908af0093b",
     "locked": true,
     "schema_version": 3,
     "solution": false,
     "task": false
    }
   },
   "source": [
    "### Simulation of noise-free data"
   ]
  },
  {
   "cell_type": "markdown",
   "id": "629acef9",
   "metadata": {
    "deletable": false,
    "editable": false,
    "nbgrader": {
     "cell_type": "markdown",
     "checksum": "5f16f700d59ac43232acb2b7a46cf183",
     "grade": false,
     "grade_id": "cell-516a3fab8ff2f7f5",
     "locked": true,
     "schema_version": 3,
     "solution": false,
     "task": false
    }
   },
   "source": [
    "Based on an acquisition model that includes the physics of the data acquisition process of a simplified 2D PET system, we can now simulate noise free data."
   ]
  },
  {
   "cell_type": "code",
   "execution_count": null,
   "id": "7b8d1884",
   "metadata": {
    "deletable": false,
    "editable": false,
    "nbgrader": {
     "cell_type": "code",
     "checksum": "11c5438d58f9dc9c6bd3f750d9afe852",
     "grade": false,
     "grade_id": "cell-07bb9ef100e14994",
     "locked": true,
     "schema_version": 3,
     "solution": false,
     "task": false
    }
   },
   "outputs": [],
   "source": [
    "# RUN, BUT DO NOT CHANGE THIS CELL\n",
    "\n",
    "# setup the forward projector\"\n",
    "# the acq_model object is an abstract representation of the linear operator P (and also it's adjoint)\n",
    "proj = RotationBased2DProjector(npix, pix_size_mm, num_subsets = num_subsets)\n",
    "resolution_model = ImageBasedResolutionModel((5.5,5.5),proj.voxel_size_mm)\n",
    "\n",
    "contamination_sinogram = np.full(proj.y_shape, 1e-3)\n",
    "sensitivity_sinogram = np.ones(proj.y_shape)\n",
    "\n",
    "acq_model = PETAcquisitionModel(proj, att_img, contamination_sinogram, sensitivity_sinogram, resolution_model)"
   ]
  },
  {
   "cell_type": "code",
   "execution_count": null,
   "id": "3725b57f",
   "metadata": {
    "deletable": false,
    "editable": false,
    "nbgrader": {
     "cell_type": "code",
     "checksum": "6f1f6cc985ca551191dbedc854849fdf",
     "grade": false,
     "grade_id": "cell-81d5dd7d69353dcd",
     "locked": true,
     "schema_version": 3,
     "solution": false,
     "task": false
    }
   },
   "outputs": [],
   "source": [
    "# RUN, BUT DO NOT CHANGE THIS CELL\n",
    "\n",
    "# generate noise free data by applying the acquisition model to our simulated emission image\n",
    "noise_free_data = acq_model.forward(em_img)"
   ]
  },
  {
   "cell_type": "markdown",
   "id": "3d999ddd",
   "metadata": {
    "deletable": false,
    "editable": false,
    "nbgrader": {
     "cell_type": "markdown",
     "checksum": "7ba1d6d383e9c1b45c2610d1fc00c7e7",
     "grade": false,
     "grade_id": "cell-2b9340ab98e82ac6",
     "locked": true,
     "schema_version": 3,
     "solution": false,
     "task": false
    }
   },
   "source": [
    "The simulated PET data is a 2D array called a *sinogram*. Every row in this sinogram contains a (corrected) parallel forward projection of our ground truth object. The dimension of the sinogram array should (180 views, 150 radial elements)."
   ]
  },
  {
   "cell_type": "code",
   "execution_count": null,
   "id": "3f80789a",
   "metadata": {
    "deletable": false,
    "editable": false,
    "nbgrader": {
     "cell_type": "code",
     "checksum": "cfb1160225fdb68460546b0726ac83bf",
     "grade": false,
     "grade_id": "cell-84f2b9916117e015",
     "locked": true,
     "schema_version": 3,
     "solution": false,
     "task": false
    }
   },
   "outputs": [],
   "source": [
    "# RUN, BUT DO NOT CHANGE THIS CELL\n",
    "\n",
    "# show the noise-free and noisy simulated emission data (sinogram)\n",
    "fig2, ax2 = plt.subplots(1,1, figsize = (3,6))\n",
    "im2 = ax2.imshow(noise_free_data, vmin = 0, vmax = 65)\n",
    "fig2.colorbar(im2, ax = ax2, location = 'bottom')\n",
    "ax2.set_xlabel('radial element')\n",
    "ax2.set_ylabel('view')\n",
    "ax2.set_title('noise-free data')\n",
    "fig2.tight_layout()\n",
    "\n",
    "print(f'data (sinogram) shape {noise_free_data.shape}')"
   ]
  },
  {
   "cell_type": "markdown",
   "id": "980f27c9",
   "metadata": {
    "deletable": false,
    "editable": false,
    "nbgrader": {
     "cell_type": "markdown",
     "checksum": "cd312cab9cb7a6e80d583de28bca1a2d",
     "grade": false,
     "grade_id": "cell-94f35c48d740b813",
     "locked": true,
     "schema_version": 3,
     "solution": false,
     "task": false
    }
   },
   "source": [
    "### Adding noise to the noise-free data"
   ]
  },
  {
   "cell_type": "markdown",
   "id": "baf91b77",
   "metadata": {
    "deletable": false,
    "editable": false,
    "nbgrader": {
     "cell_type": "markdown",
     "checksum": "ef543f2625051e6216a9d3467565d9dd",
     "grade": false,
     "grade_id": "cell-5d6d0c74652714e4",
     "locked": true,
     "schema_version": 3,
     "solution": false,
     "task": false
    }
   },
   "source": [
    "Based on the physics of the acquisition process (photon counting) we know that the acquired data in PET can be very well described by independent Poisson distributions. (More detailed information on why that is true can be e.g. found in this [short video](https://www.youtube.com/watch?v=QD8iekOc0u8)). To sample from independent Poisson distributions with known mean (the known mean value in every data bin of the 2D sinogram is the value obtained from the simulated noise-free data), we can use the function ```np.random.poisson``` from numpy's random module. To obtain reproducible results, we have set the **seed of the random generator** using ```np.random.seed()```. Note that if we would not set the seed explicitly, every time we would re-run the cell below, we would get a different noise realization of the same noise-free data. "
   ]
  },
  {
   "cell_type": "code",
   "execution_count": null,
   "id": "48c26bb4",
   "metadata": {
    "deletable": false,
    "editable": false,
    "nbgrader": {
     "cell_type": "code",
     "checksum": "253bf7319b1c7a8e1bc586bcfd47cdbe",
     "grade": false,
     "grade_id": "cell-182df04780609dd4",
     "locked": true,
     "schema_version": 3,
     "solution": false,
     "task": false
    }
   },
   "outputs": [],
   "source": [
    "# RUN, BUT DO NOT CHANGE THIS CELL\n",
    "\n",
    "# add poisson noise to the data\n",
    "np.random.seed(1)\n",
    "noisy_data_1 = np.random.poisson(noise_free_data)"
   ]
  },
  {
   "cell_type": "code",
   "execution_count": null,
   "id": "e526dfab",
   "metadata": {
    "deletable": false,
    "editable": false,
    "nbgrader": {
     "cell_type": "code",
     "checksum": "80993c12e4a6dd4c5b2661f49b4fd1f9",
     "grade": false,
     "grade_id": "cell-534a6f520eb9926c",
     "locked": true,
     "schema_version": 3,
     "solution": false,
     "task": false
    }
   },
   "outputs": [],
   "source": [
    "# RUN, BUT DO NOT CHANGE THIS CELL\n",
    "\n",
    "# show the noise-free and noisy simulated emission data (sinogram)\n",
    "fig3, ax3 = plt.subplots(1,2, figsize = (6,6))\n",
    "im02 = ax3[0].imshow(noise_free_data, vmin = 0, vmax = 65)\n",
    "im12 = ax3[1].imshow(noisy_data_1, vmin = 0, vmax = 65)\n",
    "fig3.colorbar(im02, ax = ax3[0], location = 'bottom')\n",
    "fig3.colorbar(im12, ax = ax3[1], location = 'bottom')\n",
    "ax3[0].set_xlabel('radial element')\n",
    "ax3[1].set_xlabel('radial element')\n",
    "ax3[0].set_ylabel('view')\n",
    "ax3[1].set_ylabel('view')\n",
    "ax3[0].set_title('noise-free data')\n",
    "ax3[1].set_title('noisy data - 1st noise realization')\n",
    "fig3.tight_layout()\n",
    "\n",
    "print(f'data (sinogram) shape {noise_free_data.shape}')"
   ]
  },
  {
   "cell_type": "markdown",
   "id": "ca2549d5",
   "metadata": {
    "deletable": false,
    "editable": false,
    "nbgrader": {
     "cell_type": "markdown",
     "checksum": "a76008f81a3c2b609654d7cfbc319e52",
     "grade": false,
     "grade_id": "cell-944541b698614b5d",
     "locked": true,
     "schema_version": 3,
     "solution": false,
     "task": false
    }
   },
   "source": [
    "Let's generate a second noise realization using a different seed for numpy's random generator."
   ]
  },
  {
   "cell_type": "code",
   "execution_count": null,
   "id": "c222106c",
   "metadata": {
    "deletable": false,
    "editable": false,
    "nbgrader": {
     "cell_type": "code",
     "checksum": "b10e17884f83c4088a68630d17cd9211",
     "grade": false,
     "grade_id": "cell-6edbf377109f88d3",
     "locked": true,
     "schema_version": 3,
     "solution": false,
     "task": false
    }
   },
   "outputs": [],
   "source": [
    "# RUN, BUT DO NOT CHANGE THIS CELL\n",
    "\n",
    "# add poisson noise to the data\n",
    "np.random.seed(2)\n",
    "noisy_data_2 = np.random.poisson(noise_free_data)"
   ]
  },
  {
   "cell_type": "markdown",
   "id": "9831bd22",
   "metadata": {
    "deletable": false,
    "editable": false,
    "nbgrader": {
     "cell_type": "markdown",
     "checksum": "371e6fdfac2bbec6e51726d3ff5288f0",
     "grade": false,
     "grade_id": "cell-c95fdc5a3711668b",
     "locked": true,
     "schema_version": 3,
     "solution": false,
     "task": false
    }
   },
   "source": [
    "Let's display the noise-free data, the first two noise realizations and the difference between both noise realizations to convince ourselves that the noise realizations are indeed different."
   ]
  },
  {
   "cell_type": "code",
   "execution_count": null,
   "id": "ffdaa338",
   "metadata": {
    "deletable": false,
    "editable": false,
    "nbgrader": {
     "cell_type": "code",
     "checksum": "123e1939225a0d60db750f39e6b42cb3",
     "grade": false,
     "grade_id": "cell-c2c98915991af264",
     "locked": true,
     "schema_version": 3,
     "solution": false,
     "task": false
    }
   },
   "outputs": [],
   "source": [
    "# RUN, BUT DO NOT CHANGE THIS CELL\n",
    "\n",
    "# show the noise-free and noisy simulated emission data (sinogram)\n",
    "fig4, ax4 = plt.subplots(1,4, figsize = (12,6))\n",
    "im04 = ax4[0].imshow(noise_free_data, vmin = 0, vmax = 75)\n",
    "im14 = ax4[1].imshow(noisy_data_1, vmin = 0, vmax = 75)\n",
    "im24 = ax4[2].imshow(noisy_data_2, vmin = 0, vmax = 75)\n",
    "im34 = ax4[3].imshow(noisy_data_2 - noisy_data_1, vmin = -30, vmax = 30, cmap = plt.cm.seismic)\n",
    "fig4.colorbar(im04, ax = ax4[0], location = 'bottom')\n",
    "fig4.colorbar(im14, ax = ax4[1], location = 'bottom')\n",
    "fig4.colorbar(im24, ax = ax4[2], location = 'bottom')\n",
    "fig4.colorbar(im34, ax = ax4[3], location = 'bottom')\n",
    "\n",
    "for axx in ax4:\n",
    "  axx.set_xlabel('radial element')\n",
    "  axx.set_ylabel('view')\n",
    "\n",
    "ax4[0].set_title('noise-free data')\n",
    "ax4[1].set_title('noisy data - 1st noise realization')\n",
    "ax4[2].set_title('noisy data - 2nd noise realization')\n",
    "ax4[3].set_title('2nd - 1st noise realization')\n",
    "fig4.tight_layout()\n",
    "\n",
    "print(f'data (sinogram) shape {noise_free_data.shape}')\n",
    "\n"
   ]
  },
  {
   "cell_type": "markdown",
   "id": "97de9fa9",
   "metadata": {
    "deletable": false,
    "editable": false,
    "nbgrader": {
     "cell_type": "markdown",
     "checksum": "1212dc6e7774d5cd449561044cafc213",
     "grade": false,
     "grade_id": "cell-457a11df88af113a",
     "locked": true,
     "schema_version": 3,
     "solution": false,
     "task": false
    }
   },
   "source": [
    "## Task 1 - Your Turn\n",
    "\n",
    "- 1.1: Generate $n$ = 500 Poisson noise realizations of the simulated noise-free data\n",
    "- 1.2: Plot the value of the data bin [90,75] (the central bin of the 2D sinogram) for all $n$ noise realizations\n",
    "- 1.3: calculate the mean value and standard deviation of data bin [90,75] over all $n$ noise realizations. What values for the mean and standard variation of data bin [90,75] do you expect?\n",
    "- 1.4: Plot the all values of the data bin [90,75] against the all values of the data bin [90,76] and calculate the Pearson correlation coefficient between them. What do you expect for the correlation coefficient and why? To calculate the Pearson correlation coefficient, use the first argument returned ```pearsonr()``` - see [here](https://docs.scipy.org/doc/scipy/reference/generated/scipy.stats.pearsonr.html)."
   ]
  },
  {
   "cell_type": "code",
   "execution_count": null,
   "id": "44f0e56c",
   "metadata": {
    "deletable": false,
    "nbgrader": {
     "cell_type": "code",
     "checksum": "dffd7d1df590bcdf0f33eab272a47fa4",
     "grade": true,
     "grade_id": "cell-42eb0ddda81b96a7",
     "locked": false,
     "points": 8,
     "schema_version": 3,
     "solution": true,
     "task": false
    }
   },
   "outputs": [],
   "source": [
    "# ADD THE SOURCE CODE FOR TASK 1.1, 1.2, 1.3, and 1.4 HERE\n",
    "\n",
    "#num_real = 500 # number of noise realizations\n",
    "\n",
    "## allocate an array of shape [num_real, 180, 100] for all noise realizations\n",
    "#all_noise_realizations = np.zeros((num_real,) + noise_free_data.shape, dtype = np.uint32)\n",
    "\n",
    "## generate num_real noise realizations in a loop\n",
    "#for i in range(num_real):\n",
    "#    all_noise_realizations[i,...] = ...\n",
    "\n",
    "# ...\n",
    "# ...\n",
    "# ...\n",
    "\n",
    "# YOUR CODE HERE\n",
    "raise NotImplementedError()"
   ]
  },
  {
   "cell_type": "markdown",
   "id": "e321a5a5",
   "metadata": {
    "deletable": false,
    "editable": false,
    "nbgrader": {
     "cell_type": "markdown",
     "checksum": "56ec6845a6debd1ee5d68fe6a08af1fb",
     "grade": false,
     "grade_id": "cell-8581c0dacc63e4b6",
     "locked": true,
     "schema_version": 3,
     "solution": false,
     "task": false
    }
   },
   "source": [
    "## Image reconstruction using MLEM\n",
    "\n"
   ]
  },
  {
   "cell_type": "markdown",
   "id": "57a92599",
   "metadata": {
    "deletable": false,
    "editable": false,
    "nbgrader": {
     "cell_type": "markdown",
     "checksum": "9ae7854a61ac7be5d9486694db15ef00",
     "grade": false,
     "grade_id": "cell-1ccc2930debeb22e",
     "locked": true,
     "schema_version": 3,
     "solution": false,
     "task": false
    }
   },
   "source": [
    "After having simulated different noise realizations of \"realistic\" 2D PET data, we can now use MLEM (with ordered subsets) to reconstruct each noise realization. To reconstruct a single noise realization (e.g. ```noisy_data_1```), you can an instance of the ```OSMLEM``` class as shown in the next cell. In this notebook we use MLEM with 4 iterations with 20 subsets which means that image 80 updates are performed. Depending on your computing hardware, this should take ca. 1-3s."
   ]
  },
  {
   "cell_type": "code",
   "execution_count": null,
   "id": "3945df35",
   "metadata": {
    "deletable": false,
    "editable": false,
    "nbgrader": {
     "cell_type": "code",
     "checksum": "9342b667f5c691a1bb3ea821c10ffe19",
     "grade": false,
     "grade_id": "cell-476734e4128a2116",
     "locked": true,
     "schema_version": 3,
     "solution": false,
     "task": false
    }
   },
   "outputs": [],
   "source": [
    "# RUN, BUT DO NOT CHANGE THIS CELL\n",
    "\n",
    "# reconstruct the first noise realization\n",
    "reconstructor_1 = OSMLEM(noisy_data_1, acq_model)\n",
    "recon_1 = reconstructor_1.run(num_iter, verbose = True)"
   ]
  },
  {
   "cell_type": "markdown",
   "id": "ca4d5232",
   "metadata": {
    "deletable": false,
    "editable": false,
    "nbgrader": {
     "cell_type": "markdown",
     "checksum": "70f5d85a1f4718298bed5281c3b659fa",
     "grade": false,
     "grade_id": "cell-c212bc05f0b05804",
     "locked": true,
     "schema_version": 3,
     "solution": false,
     "task": false
    }
   },
   "source": [
    "Let's also reconstruct a different noise realization of the same noise-free data (```noisy_data_2```)."
   ]
  },
  {
   "cell_type": "code",
   "execution_count": null,
   "id": "95168676",
   "metadata": {
    "deletable": false,
    "editable": false,
    "nbgrader": {
     "cell_type": "code",
     "checksum": "c180bbd02bd2cf652eb2c4e640e74c3e",
     "grade": false,
     "grade_id": "cell-3b49077df3d38b1e",
     "locked": true,
     "schema_version": 3,
     "solution": false,
     "task": false
    }
   },
   "outputs": [],
   "source": [
    "# RUN, BUT DO NOT CHANGE THIS CELL\n",
    "\n",
    "# reconstruct the second noise realization\n",
    "reconstructor_2 = OSMLEM(noisy_data_2, acq_model)\n",
    "recon_2 = reconstructor_2.run(num_iter, verbose = True)"
   ]
  },
  {
   "cell_type": "markdown",
   "id": "e5ce3cfa",
   "metadata": {
    "deletable": false,
    "editable": false,
    "nbgrader": {
     "cell_type": "markdown",
     "checksum": "04396347197555cc71bd558ce05f4e18",
     "grade": false,
     "grade_id": "cell-441b7ca4fd547e9b",
     "locked": true,
     "schema_version": 3,
     "solution": false,
     "task": false
    }
   },
   "source": [
    "Let's display the grond truth emission image (the image used to simulate the noise-free data) and the reconstructions of the two noise realizations and their difference."
   ]
  },
  {
   "cell_type": "code",
   "execution_count": null,
   "id": "554577cc",
   "metadata": {
    "deletable": false,
    "editable": false,
    "nbgrader": {
     "cell_type": "code",
     "checksum": "44db8ddbe7d7fda649618e7495861bca",
     "grade": false,
     "grade_id": "cell-9207ecb3622440c4",
     "locked": true,
     "schema_version": 3,
     "solution": false,
     "task": false
    }
   },
   "outputs": [],
   "source": [
    "# RUN, BUT DO NOT CHANGE THIS CELL\n",
    "\n",
    "# show the noise-free and noisy simulated emission data (sinogram)\n",
    "fig7, ax7 = plt.subplots(1,4, figsize = (12,6))\n",
    "im07 = ax7[0].imshow(em_img,  vmin = 0, vmax = 1.4*em_img.max())\n",
    "im17 = ax7[1].imshow(recon_1, vmin = 0, vmax = 1.4*em_img.max())\n",
    "im27 = ax7[2].imshow(recon_2, vmin = 0, vmax = 1.4*em_img.max())\n",
    "im37 = ax7[3].imshow(recon_2 - recon_1, vmin = -0.5*em_img.max(), vmax = 0.5*em_img.max(), cmap = plt.cm.seismic)\n",
    "fig7.colorbar(im07, ax = ax7[0], location = 'bottom')\n",
    "fig7.colorbar(im17, ax = ax7[1], location = 'bottom')\n",
    "fig7.colorbar(im27, ax = ax7[2], location = 'bottom')\n",
    "fig7.colorbar(im37, ax = ax7[3], location = 'bottom')\n",
    "ax7[0].set_title('ground truth image')\n",
    "ax7[1].set_title('reconstr. 1st noise real')\n",
    "ax7[2].set_title('reconstr. 2nd noise real')\n",
    "ax7[3].set_title('2nd recon - 1st recon')\n",
    "fig7.tight_layout()"
   ]
  },
  {
   "cell_type": "markdown",
   "id": "735400ba",
   "metadata": {
    "deletable": false,
    "editable": false,
    "nbgrader": {
     "cell_type": "markdown",
     "checksum": "046667d214a819ed66d45488e591cd9d",
     "grade": false,
     "grade_id": "cell-053b214119cec79f",
     "locked": true,
     "schema_version": 3,
     "solution": false,
     "task": false
    }
   },
   "source": [
    "## Task 2 - Your turn\n",
    "\n",
    "- 2.1: Reconstruct all $n = 500$ noise realizations and store the all 2D reconstructions in a single 3D array.\n",
    "- 2.2: Calculate a 2D image (array) representing the mean reconstructed value across all $n = 500$ reconstructions in every pixel. To do so, look at the ``mean()`` method of numpy's ``ndarray`` class [here](https://numpy.org/doc/stable/reference/generated/numpy.ndarray.mean.html).\n",
    "- 2.3: Calculate a 2D image (array) representing the standard deviations of the reconstructed values across all $n = 500$ reconstructions in every pixel. To do so look at the ``std()`` method of numpy's ``ndarray`` class [here](https://numpy.org/doc/stable/reference/generated/numpy.ndarray.std.html). Use ```ddof = 1```, to get the unbiased estimate for the sample standard variation. **This image is a Monte Carlo estimate of the expected noise level in every pixel of the reconstruction.**\n",
    "- 2.4: Display the ground truth image, the reconstruction of the first noise realization, the \"mean\" image and the \"standard deviation/noise level\" image next to each other. What do you observe in the \"standard deviation/noise level\" image. Is the estimated noise level homogenous across the whole image?\n",
    "- 2.5: Calculate the Pearson correlation coefficient between the 500 reconstructed values in the central pixels [75,75] and the 500 reconstructed values of its neighboring pixels [75,75+k] for k = -5,-4,-3,-2,-1,1,0,1,2,3,4,5. Plot the correlation coefficients as a function of k. What do you observe for the noise correlation between the central pixel [75,75] and its neighboring pixels?\n",
    "- 2.6: Visualize the noise correlations with 4 scatter plots where you plot the 500 values of pixel [75,75] against the 500 values of pixel [75,75+j] for j = 1,2,3,4."
   ]
  },
  {
   "cell_type": "code",
   "execution_count": null,
   "id": "8f81064b",
   "metadata": {
    "deletable": false,
    "nbgrader": {
     "cell_type": "code",
     "checksum": "1c400f70c22a8f2898cbbd5b2767b7cc",
     "grade": true,
     "grade_id": "cell-b9794e1a1358448c",
     "locked": false,
     "points": 2,
     "schema_version": 3,
     "solution": true,
     "task": false
    }
   },
   "outputs": [],
   "source": [
    "# ADD YOUR CODE FOR TASK 2.1 HERE\n",
    "\n",
    "## allocate array to store all reconstructions\n",
    "#recons = np.zeros((num_real,) + (npix, npix))\n",
    "\n",
    "#for i in range(num_real):\n",
    "#    print(f'reconstruction of noise realization {(i+1):04}', end = '\\r')    \n",
    "#    ...\n",
    "#    ...\n",
    "#    recons[i,...] = ...\n",
    "\n",
    "# YOUR CODE HERE\n",
    "raise NotImplementedError()"
   ]
  },
  {
   "cell_type": "code",
   "execution_count": null,
   "id": "5999d56d",
   "metadata": {
    "deletable": false,
    "nbgrader": {
     "cell_type": "code",
     "checksum": "9ab8bb7ebd80decc7582d967ea1ff81b",
     "grade": true,
     "grade_id": "cell-4fffebcb5fe659ed",
     "locked": false,
     "points": 4,
     "schema_version": 3,
     "solution": true,
     "task": false
    }
   },
   "outputs": [],
   "source": [
    "# ADD YOUR CODE FOR TASK 2.2, 2.3 and 2.4 HERE\n",
    "\n",
    "# YOUR CODE HERE\n",
    "raise NotImplementedError()\n"
   ]
  },
  {
   "cell_type": "code",
   "execution_count": null,
   "id": "1c406e2f",
   "metadata": {
    "deletable": false,
    "nbgrader": {
     "cell_type": "code",
     "checksum": "1d7ae582f9632bf36ebf56a85d0841cb",
     "grade": true,
     "grade_id": "cell-03d037def7dfeb8b",
     "locked": false,
     "points": 2,
     "schema_version": 3,
     "solution": true,
     "task": false
    }
   },
   "outputs": [],
   "source": [
    "# ADD YOUR CODE FOR TASK 2.5 HERE\n",
    "\n",
    "# YOUR CODE HERE\n",
    "raise NotImplementedError()"
   ]
  },
  {
   "cell_type": "code",
   "execution_count": null,
   "id": "1dfce1fc",
   "metadata": {
    "deletable": false,
    "nbgrader": {
     "cell_type": "code",
     "checksum": "63d631637f3887a776b1590cc60900f4",
     "grade": true,
     "grade_id": "cell-762b3096a27a4e56",
     "locked": false,
     "points": 2,
     "schema_version": 3,
     "solution": true,
     "task": false
    }
   },
   "outputs": [],
   "source": [
    "# ADD YOUR CODE FOR TASK 2.6 HERE\n",
    "\n",
    "# YOUR CODE HERE\n",
    "raise NotImplementedError()"
   ]
  }
 ],
 "metadata": {
  "kernelspec": {
   "display_name": "Python 3 (ipykernel)",
   "language": "python",
   "name": "python3"
  },
  "language_info": {
   "codemirror_mode": {
    "name": "ipython",
    "version": 3
   },
   "file_extension": ".py",
   "mimetype": "text/x-python",
   "name": "python",
   "nbconvert_exporter": "python",
   "pygments_lexer": "ipython3",
   "version": "3.12.7"
  }
 },
 "nbformat": 4,
 "nbformat_minor": 5
}
